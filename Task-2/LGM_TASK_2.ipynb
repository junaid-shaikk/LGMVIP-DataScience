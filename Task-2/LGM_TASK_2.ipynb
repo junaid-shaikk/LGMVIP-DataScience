{
  "nbformat": 4,
  "nbformat_minor": 0,
  "metadata": {
    "colab": {
      "name": "LGM-TASK-2.ipynb",
      "provenance": []
    },
    "kernelspec": {
      "name": "python3",
      "display_name": "Python 3"
    },
    "language_info": {
      "name": "python"
    }
  },
  "cells": [
    {
      "cell_type": "markdown",
      "source": [
        "TASK-2: Stock Market Prediction And Forecasting Using Stacked LSTM"
      ],
      "metadata": {
        "id": "sH_kEg9JIuE_"
      }
    },
    {
      "cell_type": "markdown",
      "source": [
        "Data set:\n",
        "\n",
        "\n",
        "//raw.githubusercontent.com/mwitiderrick/stockprice/master/NSE-TATAGLOBAL.csv"
      ],
      "metadata": {
        "id": "THGHp1zTIh8h"
      }
    },
    {
      "cell_type": "code",
      "source": [
        "#Import necessary Libraries\n",
        "import pandas as pd\n",
        "import numpy as np\n",
        "import math\n",
        "import matplotlib.pyplot as plt\n",
        "from sklearn.preprocessing import MinMaxScaler\n",
        "from sklearn.metrics import mean_squared_error\n",
        "import tensorflow as tf\n",
        "from tensorflow.python.keras.models import Sequential\n",
        "from tensorflow.python.keras.layers import Dense\n",
        "from tensorflow.python.keras.layers import LSTM\n",
        "%matplotlib inline"
      ],
      "metadata": {
        "id": "tww7tfqBJAUw"
      },
      "execution_count": 1,
      "outputs": []
    },
    {
      "cell_type": "code",
      "source": [
        "#checking my tensorflow version\n",
        "tf.__version__"
      ],
      "metadata": {
        "colab": {
          "base_uri": "https://localhost:8080/",
          "height": 35
        },
        "id": "eO-nNGqRJEeG",
        "outputId": "23d2ede8-de01-4622-9232-d17151ed4072"
      },
      "execution_count": 2,
      "outputs": [
        {
          "output_type": "execute_result",
          "data": {
            "text/plain": [
              "'2.8.2'"
            ],
            "application/vnd.google.colaboratory.intrinsic+json": {
              "type": "string"
            }
          },
          "metadata": {},
          "execution_count": 2
        }
      ]
    },
    {
      "cell_type": "code",
      "source": [
        "#Import the data and remove rows containing NAN values\n",
        "df = pd.read_csv('https://raw.githubusercontent.com/mwitiderrick/stockprice/master/NSE-TATAGLOBAL.csv')\n",
        "df=df. iloc[::-1]\n",
        "df.head()"
      ],
      "metadata": {
        "colab": {
          "base_uri": "https://localhost:8080/",
          "height": 206
        },
        "id": "vedJKQpRJHyF",
        "outputId": "67066307-01f2-4d69-a3fd-5f9fc3df8d07"
      },
      "execution_count": 3,
      "outputs": [
        {
          "output_type": "execute_result",
          "data": {
            "text/plain": [
              "            Date   Open    High     Low    Last   Close  Total Trade Quantity  \\\n",
              "2034  2010-07-21  122.1  123.00  121.05  121.10  121.55                658666   \n",
              "2033  2010-07-22  120.3  122.00  120.25  120.75  120.90                293312   \n",
              "2032  2010-07-23  121.8  121.95  120.25  120.35  120.65                281312   \n",
              "2031  2010-07-26  120.1  121.00  117.10  117.10  117.60                658440   \n",
              "2030  2010-07-27  117.6  119.50  112.00  118.80  118.65                586100   \n",
              "\n",
              "      Turnover (Lacs)  \n",
              "2034           803.56  \n",
              "2033           355.17  \n",
              "2032           340.31  \n",
              "2031           780.01  \n",
              "2030           694.98  "
            ],
            "text/html": [
              "\n",
              "  <div id=\"df-f324da44-9d1d-443b-b8cc-ac6b76307cc8\">\n",
              "    <div class=\"colab-df-container\">\n",
              "      <div>\n",
              "<style scoped>\n",
              "    .dataframe tbody tr th:only-of-type {\n",
              "        vertical-align: middle;\n",
              "    }\n",
              "\n",
              "    .dataframe tbody tr th {\n",
              "        vertical-align: top;\n",
              "    }\n",
              "\n",
              "    .dataframe thead th {\n",
              "        text-align: right;\n",
              "    }\n",
              "</style>\n",
              "<table border=\"1\" class=\"dataframe\">\n",
              "  <thead>\n",
              "    <tr style=\"text-align: right;\">\n",
              "      <th></th>\n",
              "      <th>Date</th>\n",
              "      <th>Open</th>\n",
              "      <th>High</th>\n",
              "      <th>Low</th>\n",
              "      <th>Last</th>\n",
              "      <th>Close</th>\n",
              "      <th>Total Trade Quantity</th>\n",
              "      <th>Turnover (Lacs)</th>\n",
              "    </tr>\n",
              "  </thead>\n",
              "  <tbody>\n",
              "    <tr>\n",
              "      <th>2034</th>\n",
              "      <td>2010-07-21</td>\n",
              "      <td>122.1</td>\n",
              "      <td>123.00</td>\n",
              "      <td>121.05</td>\n",
              "      <td>121.10</td>\n",
              "      <td>121.55</td>\n",
              "      <td>658666</td>\n",
              "      <td>803.56</td>\n",
              "    </tr>\n",
              "    <tr>\n",
              "      <th>2033</th>\n",
              "      <td>2010-07-22</td>\n",
              "      <td>120.3</td>\n",
              "      <td>122.00</td>\n",
              "      <td>120.25</td>\n",
              "      <td>120.75</td>\n",
              "      <td>120.90</td>\n",
              "      <td>293312</td>\n",
              "      <td>355.17</td>\n",
              "    </tr>\n",
              "    <tr>\n",
              "      <th>2032</th>\n",
              "      <td>2010-07-23</td>\n",
              "      <td>121.8</td>\n",
              "      <td>121.95</td>\n",
              "      <td>120.25</td>\n",
              "      <td>120.35</td>\n",
              "      <td>120.65</td>\n",
              "      <td>281312</td>\n",
              "      <td>340.31</td>\n",
              "    </tr>\n",
              "    <tr>\n",
              "      <th>2031</th>\n",
              "      <td>2010-07-26</td>\n",
              "      <td>120.1</td>\n",
              "      <td>121.00</td>\n",
              "      <td>117.10</td>\n",
              "      <td>117.10</td>\n",
              "      <td>117.60</td>\n",
              "      <td>658440</td>\n",
              "      <td>780.01</td>\n",
              "    </tr>\n",
              "    <tr>\n",
              "      <th>2030</th>\n",
              "      <td>2010-07-27</td>\n",
              "      <td>117.6</td>\n",
              "      <td>119.50</td>\n",
              "      <td>112.00</td>\n",
              "      <td>118.80</td>\n",
              "      <td>118.65</td>\n",
              "      <td>586100</td>\n",
              "      <td>694.98</td>\n",
              "    </tr>\n",
              "  </tbody>\n",
              "</table>\n",
              "</div>\n",
              "      <button class=\"colab-df-convert\" onclick=\"convertToInteractive('df-f324da44-9d1d-443b-b8cc-ac6b76307cc8')\"\n",
              "              title=\"Convert this dataframe to an interactive table.\"\n",
              "              style=\"display:none;\">\n",
              "        \n",
              "  <svg xmlns=\"http://www.w3.org/2000/svg\" height=\"24px\"viewBox=\"0 0 24 24\"\n",
              "       width=\"24px\">\n",
              "    <path d=\"M0 0h24v24H0V0z\" fill=\"none\"/>\n",
              "    <path d=\"M18.56 5.44l.94 2.06.94-2.06 2.06-.94-2.06-.94-.94-2.06-.94 2.06-2.06.94zm-11 1L8.5 8.5l.94-2.06 2.06-.94-2.06-.94L8.5 2.5l-.94 2.06-2.06.94zm10 10l.94 2.06.94-2.06 2.06-.94-2.06-.94-.94-2.06-.94 2.06-2.06.94z\"/><path d=\"M17.41 7.96l-1.37-1.37c-.4-.4-.92-.59-1.43-.59-.52 0-1.04.2-1.43.59L10.3 9.45l-7.72 7.72c-.78.78-.78 2.05 0 2.83L4 21.41c.39.39.9.59 1.41.59.51 0 1.02-.2 1.41-.59l7.78-7.78 2.81-2.81c.8-.78.8-2.07 0-2.86zM5.41 20L4 18.59l7.72-7.72 1.47 1.35L5.41 20z\"/>\n",
              "  </svg>\n",
              "      </button>\n",
              "      \n",
              "  <style>\n",
              "    .colab-df-container {\n",
              "      display:flex;\n",
              "      flex-wrap:wrap;\n",
              "      gap: 12px;\n",
              "    }\n",
              "\n",
              "    .colab-df-convert {\n",
              "      background-color: #E8F0FE;\n",
              "      border: none;\n",
              "      border-radius: 50%;\n",
              "      cursor: pointer;\n",
              "      display: none;\n",
              "      fill: #1967D2;\n",
              "      height: 32px;\n",
              "      padding: 0 0 0 0;\n",
              "      width: 32px;\n",
              "    }\n",
              "\n",
              "    .colab-df-convert:hover {\n",
              "      background-color: #E2EBFA;\n",
              "      box-shadow: 0px 1px 2px rgba(60, 64, 67, 0.3), 0px 1px 3px 1px rgba(60, 64, 67, 0.15);\n",
              "      fill: #174EA6;\n",
              "    }\n",
              "\n",
              "    [theme=dark] .colab-df-convert {\n",
              "      background-color: #3B4455;\n",
              "      fill: #D2E3FC;\n",
              "    }\n",
              "\n",
              "    [theme=dark] .colab-df-convert:hover {\n",
              "      background-color: #434B5C;\n",
              "      box-shadow: 0px 1px 3px 1px rgba(0, 0, 0, 0.15);\n",
              "      filter: drop-shadow(0px 1px 2px rgba(0, 0, 0, 0.3));\n",
              "      fill: #FFFFFF;\n",
              "    }\n",
              "  </style>\n",
              "\n",
              "      <script>\n",
              "        const buttonEl =\n",
              "          document.querySelector('#df-f324da44-9d1d-443b-b8cc-ac6b76307cc8 button.colab-df-convert');\n",
              "        buttonEl.style.display =\n",
              "          google.colab.kernel.accessAllowed ? 'block' : 'none';\n",
              "\n",
              "        async function convertToInteractive(key) {\n",
              "          const element = document.querySelector('#df-f324da44-9d1d-443b-b8cc-ac6b76307cc8');\n",
              "          const dataTable =\n",
              "            await google.colab.kernel.invokeFunction('convertToInteractive',\n",
              "                                                     [key], {});\n",
              "          if (!dataTable) return;\n",
              "\n",
              "          const docLinkHtml = 'Like what you see? Visit the ' +\n",
              "            '<a target=\"_blank\" href=https://colab.research.google.com/notebooks/data_table.ipynb>data table notebook</a>'\n",
              "            + ' to learn more about interactive tables.';\n",
              "          element.innerHTML = '';\n",
              "          dataTable['output_type'] = 'display_data';\n",
              "          await google.colab.output.renderOutput(dataTable, element);\n",
              "          const docLink = document.createElement('div');\n",
              "          docLink.innerHTML = docLinkHtml;\n",
              "          element.appendChild(docLink);\n",
              "        }\n",
              "      </script>\n",
              "    </div>\n",
              "  </div>\n",
              "  "
            ]
          },
          "metadata": {},
          "execution_count": 3
        }
      ]
    },
    {
      "cell_type": "code",
      "source": [
        "df.tail()"
      ],
      "metadata": {
        "colab": {
          "base_uri": "https://localhost:8080/",
          "height": 206
        },
        "id": "b0A7vX_UJKXv",
        "outputId": "e032d124-45b5-4ef9-8cd4-9185ebd84c2f"
      },
      "execution_count": 4,
      "outputs": [
        {
          "output_type": "execute_result",
          "data": {
            "text/plain": [
              "         Date    Open    High     Low    Last   Close  Total Trade Quantity  \\\n",
              "4  2018-09-24  233.55  239.20  230.75  234.00  233.30               3423509   \n",
              "3  2018-09-25  233.30  236.75  232.00  236.25  236.10               2349368   \n",
              "2  2018-09-26  240.00  240.00  232.50  235.00  234.25               2240909   \n",
              "1  2018-09-27  234.55  236.80  231.10  233.80  233.25               5082859   \n",
              "0  2018-09-28  234.05  235.95  230.20  233.50  233.75               3069914   \n",
              "\n",
              "   Turnover (Lacs)  \n",
              "4          7999.55  \n",
              "3          5503.90  \n",
              "2          5248.60  \n",
              "1         11859.95  \n",
              "0          7162.35  "
            ],
            "text/html": [
              "\n",
              "  <div id=\"df-cf011645-bf74-4a4d-b27a-70eb930674ca\">\n",
              "    <div class=\"colab-df-container\">\n",
              "      <div>\n",
              "<style scoped>\n",
              "    .dataframe tbody tr th:only-of-type {\n",
              "        vertical-align: middle;\n",
              "    }\n",
              "\n",
              "    .dataframe tbody tr th {\n",
              "        vertical-align: top;\n",
              "    }\n",
              "\n",
              "    .dataframe thead th {\n",
              "        text-align: right;\n",
              "    }\n",
              "</style>\n",
              "<table border=\"1\" class=\"dataframe\">\n",
              "  <thead>\n",
              "    <tr style=\"text-align: right;\">\n",
              "      <th></th>\n",
              "      <th>Date</th>\n",
              "      <th>Open</th>\n",
              "      <th>High</th>\n",
              "      <th>Low</th>\n",
              "      <th>Last</th>\n",
              "      <th>Close</th>\n",
              "      <th>Total Trade Quantity</th>\n",
              "      <th>Turnover (Lacs)</th>\n",
              "    </tr>\n",
              "  </thead>\n",
              "  <tbody>\n",
              "    <tr>\n",
              "      <th>4</th>\n",
              "      <td>2018-09-24</td>\n",
              "      <td>233.55</td>\n",
              "      <td>239.20</td>\n",
              "      <td>230.75</td>\n",
              "      <td>234.00</td>\n",
              "      <td>233.30</td>\n",
              "      <td>3423509</td>\n",
              "      <td>7999.55</td>\n",
              "    </tr>\n",
              "    <tr>\n",
              "      <th>3</th>\n",
              "      <td>2018-09-25</td>\n",
              "      <td>233.30</td>\n",
              "      <td>236.75</td>\n",
              "      <td>232.00</td>\n",
              "      <td>236.25</td>\n",
              "      <td>236.10</td>\n",
              "      <td>2349368</td>\n",
              "      <td>5503.90</td>\n",
              "    </tr>\n",
              "    <tr>\n",
              "      <th>2</th>\n",
              "      <td>2018-09-26</td>\n",
              "      <td>240.00</td>\n",
              "      <td>240.00</td>\n",
              "      <td>232.50</td>\n",
              "      <td>235.00</td>\n",
              "      <td>234.25</td>\n",
              "      <td>2240909</td>\n",
              "      <td>5248.60</td>\n",
              "    </tr>\n",
              "    <tr>\n",
              "      <th>1</th>\n",
              "      <td>2018-09-27</td>\n",
              "      <td>234.55</td>\n",
              "      <td>236.80</td>\n",
              "      <td>231.10</td>\n",
              "      <td>233.80</td>\n",
              "      <td>233.25</td>\n",
              "      <td>5082859</td>\n",
              "      <td>11859.95</td>\n",
              "    </tr>\n",
              "    <tr>\n",
              "      <th>0</th>\n",
              "      <td>2018-09-28</td>\n",
              "      <td>234.05</td>\n",
              "      <td>235.95</td>\n",
              "      <td>230.20</td>\n",
              "      <td>233.50</td>\n",
              "      <td>233.75</td>\n",
              "      <td>3069914</td>\n",
              "      <td>7162.35</td>\n",
              "    </tr>\n",
              "  </tbody>\n",
              "</table>\n",
              "</div>\n",
              "      <button class=\"colab-df-convert\" onclick=\"convertToInteractive('df-cf011645-bf74-4a4d-b27a-70eb930674ca')\"\n",
              "              title=\"Convert this dataframe to an interactive table.\"\n",
              "              style=\"display:none;\">\n",
              "        \n",
              "  <svg xmlns=\"http://www.w3.org/2000/svg\" height=\"24px\"viewBox=\"0 0 24 24\"\n",
              "       width=\"24px\">\n",
              "    <path d=\"M0 0h24v24H0V0z\" fill=\"none\"/>\n",
              "    <path d=\"M18.56 5.44l.94 2.06.94-2.06 2.06-.94-2.06-.94-.94-2.06-.94 2.06-2.06.94zm-11 1L8.5 8.5l.94-2.06 2.06-.94-2.06-.94L8.5 2.5l-.94 2.06-2.06.94zm10 10l.94 2.06.94-2.06 2.06-.94-2.06-.94-.94-2.06-.94 2.06-2.06.94z\"/><path d=\"M17.41 7.96l-1.37-1.37c-.4-.4-.92-.59-1.43-.59-.52 0-1.04.2-1.43.59L10.3 9.45l-7.72 7.72c-.78.78-.78 2.05 0 2.83L4 21.41c.39.39.9.59 1.41.59.51 0 1.02-.2 1.41-.59l7.78-7.78 2.81-2.81c.8-.78.8-2.07 0-2.86zM5.41 20L4 18.59l7.72-7.72 1.47 1.35L5.41 20z\"/>\n",
              "  </svg>\n",
              "      </button>\n",
              "      \n",
              "  <style>\n",
              "    .colab-df-container {\n",
              "      display:flex;\n",
              "      flex-wrap:wrap;\n",
              "      gap: 12px;\n",
              "    }\n",
              "\n",
              "    .colab-df-convert {\n",
              "      background-color: #E8F0FE;\n",
              "      border: none;\n",
              "      border-radius: 50%;\n",
              "      cursor: pointer;\n",
              "      display: none;\n",
              "      fill: #1967D2;\n",
              "      height: 32px;\n",
              "      padding: 0 0 0 0;\n",
              "      width: 32px;\n",
              "    }\n",
              "\n",
              "    .colab-df-convert:hover {\n",
              "      background-color: #E2EBFA;\n",
              "      box-shadow: 0px 1px 2px rgba(60, 64, 67, 0.3), 0px 1px 3px 1px rgba(60, 64, 67, 0.15);\n",
              "      fill: #174EA6;\n",
              "    }\n",
              "\n",
              "    [theme=dark] .colab-df-convert {\n",
              "      background-color: #3B4455;\n",
              "      fill: #D2E3FC;\n",
              "    }\n",
              "\n",
              "    [theme=dark] .colab-df-convert:hover {\n",
              "      background-color: #434B5C;\n",
              "      box-shadow: 0px 1px 3px 1px rgba(0, 0, 0, 0.15);\n",
              "      filter: drop-shadow(0px 1px 2px rgba(0, 0, 0, 0.3));\n",
              "      fill: #FFFFFF;\n",
              "    }\n",
              "  </style>\n",
              "\n",
              "      <script>\n",
              "        const buttonEl =\n",
              "          document.querySelector('#df-cf011645-bf74-4a4d-b27a-70eb930674ca button.colab-df-convert');\n",
              "        buttonEl.style.display =\n",
              "          google.colab.kernel.accessAllowed ? 'block' : 'none';\n",
              "\n",
              "        async function convertToInteractive(key) {\n",
              "          const element = document.querySelector('#df-cf011645-bf74-4a4d-b27a-70eb930674ca');\n",
              "          const dataTable =\n",
              "            await google.colab.kernel.invokeFunction('convertToInteractive',\n",
              "                                                     [key], {});\n",
              "          if (!dataTable) return;\n",
              "\n",
              "          const docLinkHtml = 'Like what you see? Visit the ' +\n",
              "            '<a target=\"_blank\" href=https://colab.research.google.com/notebooks/data_table.ipynb>data table notebook</a>'\n",
              "            + ' to learn more about interactive tables.';\n",
              "          element.innerHTML = '';\n",
              "          dataTable['output_type'] = 'display_data';\n",
              "          await google.colab.output.renderOutput(dataTable, element);\n",
              "          const docLink = document.createElement('div');\n",
              "          docLink.innerHTML = docLinkHtml;\n",
              "          element.appendChild(docLink);\n",
              "        }\n",
              "      </script>\n",
              "    </div>\n",
              "  </div>\n",
              "  "
            ]
          },
          "metadata": {},
          "execution_count": 4
        }
      ]
    },
    {
      "cell_type": "code",
      "source": [
        "#Data Preprocessing\n",
        "df.isnull().sum()"
      ],
      "metadata": {
        "colab": {
          "base_uri": "https://localhost:8080/"
        },
        "id": "QyKT8x35JMYI",
        "outputId": "8c937f37-89f5-43c9-cae2-1115262969f0"
      },
      "execution_count": 5,
      "outputs": [
        {
          "output_type": "execute_result",
          "data": {
            "text/plain": [
              "Date                    0\n",
              "Open                    0\n",
              "High                    0\n",
              "Low                     0\n",
              "Last                    0\n",
              "Close                   0\n",
              "Total Trade Quantity    0\n",
              "Turnover (Lacs)         0\n",
              "dtype: int64"
            ]
          },
          "metadata": {},
          "execution_count": 5
        }
      ]
    },
    {
      "cell_type": "code",
      "source": [
        "df.shape"
      ],
      "metadata": {
        "colab": {
          "base_uri": "https://localhost:8080/"
        },
        "id": "LYQbZk-OJOn4",
        "outputId": "819e2606-be8b-4eea-f16e-16011284c7af"
      },
      "execution_count": 6,
      "outputs": [
        {
          "output_type": "execute_result",
          "data": {
            "text/plain": [
              "(2035, 8)"
            ]
          },
          "metadata": {},
          "execution_count": 6
        }
      ]
    },
    {
      "cell_type": "code",
      "source": [
        "df_high=df.reset_index()['High']\n",
        "plt.plot(df_high)"
      ],
      "metadata": {
        "colab": {
          "base_uri": "https://localhost:8080/",
          "height": 282
        },
        "id": "_qwnrE6SJRR3",
        "outputId": "f868ee2b-ad10-4461-e2e2-82d0fd5e8f3c"
      },
      "execution_count": 7,
      "outputs": [
        {
          "output_type": "execute_result",
          "data": {
            "text/plain": [
              "[<matplotlib.lines.Line2D at 0x7f07385ea490>]"
            ]
          },
          "metadata": {},
          "execution_count": 7
        },
        {
          "output_type": "display_data",
          "data": {
            "text/plain": [
              "<Figure size 432x288 with 1 Axes>"
            ],
            "image/png": "[encoded data removed]"
          },
          "metadata": {
            "needs_background": "light"
          }
        }
      ]
    },
    {
      "cell_type": "code",
      "source": [
        "#Since LSTM are sensitive to the scale of the data, so we apply MinMax Scaler to transform our values between 0 and 1\n",
        "\n",
        "scaler = MinMaxScaler(feature_range = (0,1))\n",
        "df_high = scaler.fit_transform(np.array(df_high).reshape(-1,1))"
      ],
      "metadata": {
        "id": "KGYgKf_FJT2i"
      },
      "execution_count": 8,
      "outputs": []
    },
    {
      "cell_type": "code",
      "source": [
        "df_high.shape"
      ],
      "metadata": {
        "colab": {
          "base_uri": "https://localhost:8080/"
        },
        "id": "0pAAkrZdJWhH",
        "outputId": "c2a6748e-3a97-41f8-aa16-fae82767cbd8"
      },
      "execution_count": 9,
      "outputs": [
        {
          "output_type": "execute_result",
          "data": {
            "text/plain": [
              "(2035, 1)"
            ]
          },
          "metadata": {},
          "execution_count": 9
        }
      ]
    },
    {
      "cell_type": "code",
      "source": [
        "df_high"
      ],
      "metadata": {
        "colab": {
          "base_uri": "https://localhost:8080/"
        },
        "id": "jhnDfWDQJguT",
        "outputId": "8af1ac8e-ab26-4dee-8daa-6bcafc9aefbf"
      },
      "execution_count": 10,
      "outputs": [
        {
          "output_type": "execute_result",
          "data": {
            "text/plain": [
              "array([[0.16344786],\n",
              "       [0.15938199],\n",
              "       [0.15917869],\n",
              "       ...,\n",
              "       [0.6391543 ],\n",
              "       [0.62614353],\n",
              "       [0.62268754]])"
            ]
          },
          "metadata": {},
          "execution_count": 10
        }
      ]
    },
    {
      "cell_type": "code",
      "source": [
        "#Split the data into train and test split\n",
        "training_size = int(len(df_high) * 0.75)\n",
        "test_size = len(df_high) - training_size\n",
        "train_data, test_data = df_high[0:training_size,:], df_high[training_size:len(df_high),:1]"
      ],
      "metadata": {
        "id": "HyMZhDf_JjK2"
      },
      "execution_count": 11,
      "outputs": []
    },
    {
      "cell_type": "code",
      "source": [
        "training_size,test_size"
      ],
      "metadata": {
        "colab": {
          "base_uri": "https://localhost:8080/"
        },
        "id": "q4uEcNOgJmQQ",
        "outputId": "9ddb917a-d258-43be-a2d4-60ec2dafe1a0"
      },
      "execution_count": 12,
      "outputs": [
        {
          "output_type": "execute_result",
          "data": {
            "text/plain": [
              "(1526, 509)"
            ]
          },
          "metadata": {},
          "execution_count": 12
        }
      ]
    },
    {
      "cell_type": "code",
      "source": [
        "def create_dataset(dataset, time_step = 1):\n",
        "    dataX, dataY = [], []\n",
        "    for i in range(len(dataset) - time_step - 1):\n",
        "        a = dataset[i:(i+time_step), 0]\n",
        "        dataX.append(a)\n",
        "        dataY.append(dataset[i+time_step, 0])\n",
        "    return np.array(dataX), np.array(dataY)\n",
        "\n",
        "    \n",
        "time_step = 100\n",
        "x_train, y_train = create_dataset(train_data, time_step)\n",
        "x_test, y_test = create_dataset(test_data, time_step)"
      ],
      "metadata": {
        "id": "1cDtm8P3Jobf"
      },
      "execution_count": 13,
      "outputs": []
    },
    {
      "cell_type": "code",
      "source": [
        "#Reshape the input to be [samples, time steps, features] which is the requirement of LSTM\n",
        "x_train = x_train.reshape(x_train.shape[0], x_train.shape[1], 1)\n",
        "x_test = x_test.reshape(x_test.shape[0], x_test.shape[1], 1)\n",
        "\n",
        "\n",
        "print(x_train.shape), print(y_train.shape)"
      ],
      "metadata": {
        "colab": {
          "base_uri": "https://localhost:8080/"
        },
        "id": "jZaf5qwYJrC9",
        "outputId": "a5b36f1e-6d91-48b5-dfbc-443ce8f5068c"
      },
      "execution_count": 14,
      "outputs": [
        {
          "output_type": "stream",
          "name": "stdout",
          "text": [
            "(1425, 100, 1)\n",
            "(1425,)\n"
          ]
        },
        {
          "output_type": "execute_result",
          "data": {
            "text/plain": [
              "(None, None)"
            ]
          },
          "metadata": {},
          "execution_count": 14
        }
      ]
    },
    {
      "cell_type": "code",
      "source": [
        "print(x_test.shape), print(y_test.shape)"
      ],
      "metadata": {
        "colab": {
          "base_uri": "https://localhost:8080/"
        },
        "id": "q_JPqsAAJttw",
        "outputId": "19eea814-fabb-4ed2-9c56-2ec65cdabb80"
      },
      "execution_count": 15,
      "outputs": [
        {
          "output_type": "stream",
          "name": "stdout",
          "text": [
            "(408, 100, 1)\n",
            "(408,)\n"
          ]
        },
        {
          "output_type": "execute_result",
          "data": {
            "text/plain": [
              "(None, None)"
            ]
          },
          "metadata": {},
          "execution_count": 15
        }
      ]
    },
    {
      "cell_type": "code",
      "source": [
        "#Create the LSTM Model\n",
        "model = Sequential()\n",
        "model.add(LSTM(50, return_sequences = True, input_shape = (100,1)))\n",
        "model.add(LSTM(50, return_sequences = True))\n",
        "model.add(LSTM(50))\n",
        "model.add(Dense(1))\n",
        "model.compile(loss = 'mean_squared_error', optimizer = 'adam')\n",
        "\n",
        "\n",
        "model.summary()"
      ],
      "metadata": {
        "colab": {
          "base_uri": "https://localhost:8080/"
        },
        "id": "B3Ts2POGJwhq",
        "outputId": "85268ff4-28a0-4659-c5d2-2562a52c20a5"
      },
      "execution_count": 16,
      "outputs": [
        {
          "output_type": "stream",
          "name": "stdout",
          "text": [
            "Model: \"sequential\"\n",
            "_________________________________________________________________\n",
            "Layer (type)                 Output Shape              Param #   \n",
            "=================================================================\n",
            "lstm (LSTM)                  (None, 100, 50)           10400     \n",
            "_________________________________________________________________\n",
            "lstm_1 (LSTM)                (None, 100, 50)           20200     \n",
            "_________________________________________________________________\n",
            "lstm_2 (LSTM)                (None, 50)                20200     \n",
            "_________________________________________________________________\n",
            "dense (Dense)                (None, 1)                 51        \n",
            "=================================================================\n",
            "Total params: 50,851\n",
            "Trainable params: 50,851\n",
            "Non-trainable params: 0\n",
            "_________________________________________________________________\n"
          ]
        }
      ]
    },
    {
      "cell_type": "code",
      "source": [
        "model.fit(x_train, y_train, validation_data = (x_test, y_test), epochs = 100, batch_size = 64, verbose = 1)"
      ],
      "metadata": {
        "colab": {
          "base_uri": "https://localhost:8080/"
        },
        "id": "FYbY95N-JzKm",
        "outputId": "cf3d930f-b3de-46d7-8eea-529f7ed90d1a"
      },
      "execution_count": 17,
      "outputs": [
        {
          "output_type": "stream",
          "name": "stdout",
          "text": [
            "Epoch 1/100\n",
            "23/23 [==============================] - 24s 390ms/step - loss: 0.0117 - val_loss: 0.0505\n",
            "Epoch 2/100\n",
            "23/23 [==============================] - 8s 348ms/step - loss: 0.0021 - val_loss: 0.0032\n",
            "Epoch 3/100\n",
            "23/23 [==============================] - 8s 347ms/step - loss: 8.4226e-04 - val_loss: 0.0036\n",
            "Epoch 4/100\n",
            "23/23 [==============================] - 9s 386ms/step - loss: 7.6944e-04 - val_loss: 0.0036\n",
            "Epoch 5/100\n",
            "23/23 [==============================] - 8s 349ms/step - loss: 7.6090e-04 - val_loss: 0.0036\n",
            "Epoch 6/100\n",
            "23/23 [==============================] - 8s 345ms/step - loss: 7.4589e-04 - val_loss: 0.0033\n",
            "Epoch 7/100\n",
            "23/23 [==============================] - 9s 393ms/step - loss: 6.9673e-04 - val_loss: 0.0025\n",
            "Epoch 8/100\n",
            "23/23 [==============================] - 8s 347ms/step - loss: 6.7280e-04 - val_loss: 0.0023\n",
            "Epoch 9/100\n",
            "23/23 [==============================] - 8s 350ms/step - loss: 6.4466e-04 - val_loss: 0.0046\n",
            "Epoch 10/100\n",
            "23/23 [==============================] - 8s 344ms/step - loss: 6.3912e-04 - val_loss: 0.0026\n",
            "Epoch 11/100\n",
            "23/23 [==============================] - 9s 387ms/step - loss: 5.9284e-04 - val_loss: 0.0036\n",
            "Epoch 12/100\n",
            "23/23 [==============================] - 8s 349ms/step - loss: 5.7259e-04 - val_loss: 0.0056\n",
            "Epoch 13/100\n",
            "23/23 [==============================] - 8s 344ms/step - loss: 5.6482e-04 - val_loss: 0.0033\n",
            "Epoch 14/100\n",
            "23/23 [==============================] - 8s 345ms/step - loss: 5.6032e-04 - val_loss: 0.0049\n",
            "Epoch 15/100\n",
            "23/23 [==============================] - 8s 346ms/step - loss: 5.4797e-04 - val_loss: 0.0080\n",
            "Epoch 16/100\n",
            "23/23 [==============================] - 8s 350ms/step - loss: 5.6327e-04 - val_loss: 0.0104\n",
            "Epoch 17/100\n",
            "23/23 [==============================] - 8s 350ms/step - loss: 5.5129e-04 - val_loss: 0.0102\n",
            "Epoch 18/100\n",
            "23/23 [==============================] - 8s 347ms/step - loss: 5.1351e-04 - val_loss: 0.0045\n",
            "Epoch 19/100\n",
            "23/23 [==============================] - 8s 343ms/step - loss: 5.1134e-04 - val_loss: 0.0079\n",
            "Epoch 20/100\n",
            "23/23 [==============================] - 8s 345ms/step - loss: 4.8896e-04 - val_loss: 0.0080\n",
            "Epoch 21/100\n",
            "23/23 [==============================] - 9s 392ms/step - loss: 4.8881e-04 - val_loss: 0.0055\n",
            "Epoch 22/100\n",
            "23/23 [==============================] - 8s 346ms/step - loss: 4.7972e-04 - val_loss: 0.0064\n",
            "Epoch 23/100\n",
            "23/23 [==============================] - 8s 349ms/step - loss: 4.5676e-04 - val_loss: 0.0079\n",
            "Epoch 24/100\n",
            "23/23 [==============================] - 8s 345ms/step - loss: 4.5446e-04 - val_loss: 0.0054\n",
            "Epoch 25/100\n",
            "23/23 [==============================] - 8s 352ms/step - loss: 4.6467e-04 - val_loss: 0.0066\n",
            "Epoch 26/100\n",
            "23/23 [==============================] - 8s 348ms/step - loss: 4.2852e-04 - val_loss: 0.0086\n",
            "Epoch 27/100\n",
            "23/23 [==============================] - 8s 351ms/step - loss: 4.2751e-04 - val_loss: 0.0062\n",
            "Epoch 28/100\n",
            "23/23 [==============================] - 8s 349ms/step - loss: 4.3023e-04 - val_loss: 0.0065\n",
            "Epoch 29/100\n",
            "23/23 [==============================] - 8s 349ms/step - loss: 4.1446e-04 - val_loss: 0.0079\n",
            "Epoch 30/100\n",
            "23/23 [==============================] - 8s 346ms/step - loss: 4.0748e-04 - val_loss: 0.0043\n",
            "Epoch 31/100\n",
            "23/23 [==============================] - 8s 349ms/step - loss: 4.0322e-04 - val_loss: 0.0085\n",
            "Epoch 32/100\n",
            "23/23 [==============================] - 8s 349ms/step - loss: 3.7254e-04 - val_loss: 0.0092\n",
            "Epoch 33/100\n",
            "23/23 [==============================] - 8s 348ms/step - loss: 3.7807e-04 - val_loss: 0.0068\n",
            "Epoch 34/100\n",
            "23/23 [==============================] - 8s 348ms/step - loss: 3.6055e-04 - val_loss: 0.0064\n",
            "Epoch 35/100\n",
            "23/23 [==============================] - 9s 386ms/step - loss: 3.4765e-04 - val_loss: 0.0058\n",
            "Epoch 36/100\n",
            "23/23 [==============================] - 8s 349ms/step - loss: 3.6320e-04 - val_loss: 0.0098\n",
            "Epoch 37/100\n",
            "23/23 [==============================] - 8s 348ms/step - loss: 4.0131e-04 - val_loss: 0.0067\n",
            "Epoch 38/100\n",
            "23/23 [==============================] - 8s 354ms/step - loss: 3.3825e-04 - val_loss: 0.0043\n",
            "Epoch 39/100\n",
            "23/23 [==============================] - 8s 349ms/step - loss: 3.1378e-04 - val_loss: 0.0068\n",
            "Epoch 40/100\n",
            "23/23 [==============================] - 8s 347ms/step - loss: 3.1376e-04 - val_loss: 0.0062\n",
            "Epoch 41/100\n",
            "23/23 [==============================] - 8s 348ms/step - loss: 2.9340e-04 - val_loss: 0.0033\n",
            "Epoch 42/100\n",
            "23/23 [==============================] - 8s 350ms/step - loss: 2.9926e-04 - val_loss: 0.0025\n",
            "Epoch 43/100\n",
            "23/23 [==============================] - 8s 348ms/step - loss: 2.8906e-04 - val_loss: 0.0020\n",
            "Epoch 44/100\n",
            "23/23 [==============================] - 8s 351ms/step - loss: 2.6996e-04 - val_loss: 0.0057\n",
            "Epoch 45/100\n",
            "23/23 [==============================] - 8s 347ms/step - loss: 2.7973e-04 - val_loss: 0.0036\n",
            "Epoch 46/100\n",
            "23/23 [==============================] - 8s 349ms/step - loss: 2.6373e-04 - val_loss: 0.0039\n",
            "Epoch 47/100\n",
            "23/23 [==============================] - 8s 348ms/step - loss: 2.4676e-04 - val_loss: 0.0038\n",
            "Epoch 48/100\n",
            "23/23 [==============================] - 9s 394ms/step - loss: 2.3974e-04 - val_loss: 0.0045\n",
            "Epoch 49/100\n",
            "23/23 [==============================] - 8s 348ms/step - loss: 2.2736e-04 - val_loss: 0.0045\n",
            "Epoch 50/100\n",
            "23/23 [==============================] - 8s 350ms/step - loss: 2.2838e-04 - val_loss: 0.0035\n",
            "Epoch 51/100\n",
            "23/23 [==============================] - 8s 350ms/step - loss: 2.1849e-04 - val_loss: 0.0044\n",
            "Epoch 52/100\n",
            "23/23 [==============================] - 8s 345ms/step - loss: 2.0782e-04 - val_loss: 0.0046\n",
            "Epoch 53/100\n",
            "23/23 [==============================] - 8s 346ms/step - loss: 1.9944e-04 - val_loss: 0.0031\n",
            "Epoch 54/100\n",
            "23/23 [==============================] - 8s 348ms/step - loss: 1.9296e-04 - val_loss: 0.0033\n",
            "Epoch 55/100\n",
            "23/23 [==============================] - 8s 351ms/step - loss: 2.1511e-04 - val_loss: 0.0036\n",
            "Epoch 56/100\n",
            "23/23 [==============================] - 8s 348ms/step - loss: 1.8696e-04 - val_loss: 0.0026\n",
            "Epoch 57/100\n",
            "23/23 [==============================] - 8s 346ms/step - loss: 1.7708e-04 - val_loss: 0.0027\n",
            "Epoch 58/100\n",
            "23/23 [==============================] - 8s 342ms/step - loss: 1.9066e-04 - val_loss: 0.0022\n",
            "Epoch 59/100\n",
            "23/23 [==============================] - 8s 346ms/step - loss: 1.6848e-04 - val_loss: 0.0021\n",
            "Epoch 60/100\n",
            "23/23 [==============================] - 8s 346ms/step - loss: 1.6830e-04 - val_loss: 0.0038\n",
            "Epoch 61/100\n",
            "23/23 [==============================] - 8s 347ms/step - loss: 1.6114e-04 - val_loss: 0.0024\n",
            "Epoch 62/100\n",
            "23/23 [==============================] - 9s 394ms/step - loss: 1.5966e-04 - val_loss: 0.0035\n",
            "Epoch 63/100\n",
            "23/23 [==============================] - 8s 348ms/step - loss: 1.4788e-04 - val_loss: 0.0027\n",
            "Epoch 64/100\n",
            "23/23 [==============================] - 8s 345ms/step - loss: 1.4100e-04 - val_loss: 0.0040\n",
            "Epoch 65/100\n",
            "23/23 [==============================] - 8s 346ms/step - loss: 1.4305e-04 - val_loss: 0.0018\n",
            "Epoch 66/100\n",
            "23/23 [==============================] - 8s 347ms/step - loss: 1.4688e-04 - val_loss: 0.0033\n",
            "Epoch 67/100\n",
            "23/23 [==============================] - 8s 350ms/step - loss: 1.5332e-04 - val_loss: 0.0020\n",
            "Epoch 68/100\n",
            "23/23 [==============================] - 8s 348ms/step - loss: 1.4643e-04 - val_loss: 0.0011\n",
            "Epoch 69/100\n",
            "23/23 [==============================] - 8s 347ms/step - loss: 1.6988e-04 - val_loss: 0.0033\n",
            "Epoch 70/100\n",
            "23/23 [==============================] - 8s 348ms/step - loss: 1.3981e-04 - val_loss: 0.0015\n",
            "Epoch 71/100\n",
            "23/23 [==============================] - 8s 346ms/step - loss: 1.3845e-04 - val_loss: 0.0021\n",
            "Epoch 72/100\n",
            "23/23 [==============================] - 8s 347ms/step - loss: 1.5525e-04 - val_loss: 0.0027\n",
            "Epoch 73/100\n",
            "23/23 [==============================] - 8s 347ms/step - loss: 1.5961e-04 - val_loss: 0.0021\n",
            "Epoch 74/100\n",
            "23/23 [==============================] - 8s 348ms/step - loss: 1.2153e-04 - val_loss: 0.0019\n",
            "Epoch 75/100\n",
            "23/23 [==============================] - 9s 396ms/step - loss: 1.2149e-04 - val_loss: 0.0017\n",
            "Epoch 76/100\n",
            "23/23 [==============================] - 8s 353ms/step - loss: 1.2481e-04 - val_loss: 0.0015\n",
            "Epoch 77/100\n",
            "23/23 [==============================] - 8s 351ms/step - loss: 1.1954e-04 - val_loss: 0.0025\n",
            "Epoch 78/100\n",
            "23/23 [==============================] - 8s 347ms/step - loss: 1.1910e-04 - val_loss: 0.0012\n",
            "Epoch 79/100\n",
            "23/23 [==============================] - 8s 349ms/step - loss: 1.3460e-04 - val_loss: 0.0027\n",
            "Epoch 80/100\n",
            "23/23 [==============================] - 8s 351ms/step - loss: 1.2297e-04 - val_loss: 0.0016\n",
            "Epoch 81/100\n",
            "23/23 [==============================] - 8s 350ms/step - loss: 1.1481e-04 - val_loss: 0.0014\n",
            "Epoch 82/100\n",
            "23/23 [==============================] - 8s 350ms/step - loss: 1.1817e-04 - val_loss: 0.0021\n",
            "Epoch 83/100\n",
            "23/23 [==============================] - 8s 348ms/step - loss: 1.1620e-04 - val_loss: 0.0019\n",
            "Epoch 84/100\n",
            "23/23 [==============================] - 8s 350ms/step - loss: 1.2757e-04 - val_loss: 9.1823e-04\n",
            "Epoch 85/100\n",
            "23/23 [==============================] - 8s 348ms/step - loss: 1.2166e-04 - val_loss: 0.0012\n",
            "Epoch 86/100\n",
            "23/23 [==============================] - 8s 346ms/step - loss: 1.1189e-04 - val_loss: 0.0028\n",
            "Epoch 87/100\n",
            "23/23 [==============================] - 8s 349ms/step - loss: 1.2463e-04 - val_loss: 0.0016\n",
            "Epoch 88/100\n",
            "23/23 [==============================] - 8s 349ms/step - loss: 1.2857e-04 - val_loss: 6.1244e-04\n",
            "Epoch 89/100\n",
            "23/23 [==============================] - 9s 394ms/step - loss: 1.3412e-04 - val_loss: 0.0026\n",
            "Epoch 90/100\n",
            "23/23 [==============================] - 8s 346ms/step - loss: 1.2196e-04 - val_loss: 0.0013\n",
            "Epoch 91/100\n",
            "23/23 [==============================] - 8s 345ms/step - loss: 1.1905e-04 - val_loss: 9.4466e-04\n",
            "Epoch 92/100\n",
            "23/23 [==============================] - 8s 345ms/step - loss: 1.1054e-04 - val_loss: 0.0012\n",
            "Epoch 93/100\n",
            "23/23 [==============================] - 8s 343ms/step - loss: 1.1114e-04 - val_loss: 0.0011\n",
            "Epoch 94/100\n",
            "23/23 [==============================] - 8s 349ms/step - loss: 1.1281e-04 - val_loss: 0.0015\n",
            "Epoch 95/100\n",
            "23/23 [==============================] - 8s 347ms/step - loss: 1.1109e-04 - val_loss: 8.4817e-04\n",
            "Epoch 96/100\n",
            "23/23 [==============================] - 8s 347ms/step - loss: 1.2600e-04 - val_loss: 0.0015\n",
            "Epoch 97/100\n",
            "23/23 [==============================] - 8s 350ms/step - loss: 1.3735e-04 - val_loss: 5.3011e-04\n",
            "Epoch 98/100\n",
            "23/23 [==============================] - 8s 353ms/step - loss: 1.4100e-04 - val_loss: 0.0011\n",
            "Epoch 99/100\n",
            "23/23 [==============================] - 8s 349ms/step - loss: 1.2393e-04 - val_loss: 0.0023\n",
            "Epoch 100/100\n",
            "23/23 [==============================] - 8s 352ms/step - loss: 1.1540e-04 - val_loss: 8.9361e-04\n"
          ]
        },
        {
          "output_type": "execute_result",
          "data": {
            "text/plain": [
              "<tensorflow.python.keras.callbacks.History at 0x7f0733ce2c10>"
            ]
          },
          "metadata": {},
          "execution_count": 17
        }
      ]
    },
    {
      "cell_type": "code",
      "source": [
        "#Lets predict and check performance metrics\n",
        "train_predict = model.predict(x_train)\n",
        "test_predict = model.predict(x_test)"
      ],
      "metadata": {
        "id": "706CIe49J2Ry"
      },
      "execution_count": 18,
      "outputs": []
    },
    {
      "cell_type": "code",
      "source": [
        "#Transform back to original form\n",
        "train_predict = scaler.inverse_transform(train_predict)\n",
        "test_predict = scaler.inverse_transform(test_predict)"
      ],
      "metadata": {
        "id": "Uo84mNEKNOqv"
      },
      "execution_count": 19,
      "outputs": []
    },
    {
      "cell_type": "code",
      "source": [
        "#Calculate RMSE performance metrics\n",
        "math.sqrt(mean_squared_error(y_train, train_predict))"
      ],
      "metadata": {
        "colab": {
          "base_uri": "https://localhost:8080/"
        },
        "id": "nKqHzZZJNRV4",
        "outputId": "c261a0ea-cd9b-4747-8ddf-2606b2d1f310"
      },
      "execution_count": 20,
      "outputs": [
        {
          "output_type": "execute_result",
          "data": {
            "text/plain": [
              "136.3226144051368"
            ]
          },
          "metadata": {},
          "execution_count": 20
        }
      ]
    },
    {
      "cell_type": "code",
      "source": [
        "#Test Data RMSE\n",
        "math.sqrt(mean_squared_error(y_test, test_predict))"
      ],
      "metadata": {
        "colab": {
          "base_uri": "https://localhost:8080/"
        },
        "id": "ktqewpImNTs6",
        "outputId": "e28804fe-cabb-430d-ff79-4af7618a7d5c"
      },
      "execution_count": 21,
      "outputs": [
        {
          "output_type": "execute_result",
          "data": {
            "text/plain": [
              "228.03378170032562"
            ]
          },
          "metadata": {},
          "execution_count": 21
        }
      ]
    },
    {
      "cell_type": "code",
      "source": [
        "#Plotting\n",
        "\n",
        "#Shift train prediction for plotting\n",
        "look_back = 100\n",
        "trainPredictPlot = np.empty_like(df_high)\n",
        "trainPredictPlot[:,:] = np.nan\n",
        "trainPredictPlot[look_back:len(train_predict) + look_back, :] = train_predict\n",
        "\n",
        "#Shift test prediction for plotting\n",
        "testPredictPlot = np.empty_like(df_high)\n",
        "testPredictPlot[:,:] = np.nan\n",
        "testPredictPlot[len(train_predict) + (look_back * 2)+1:len(df_high) - 1, :] = test_predict\n",
        "\n",
        "#Plot baseline and predictions\n",
        "plt.plot(scaler.inverse_transform(df_high))\n",
        "plt.plot(trainPredictPlot)\n",
        "plt.plot(testPredictPlot)\n",
        "plt.show()\n",
        "\n",
        "print(\"Green indicates the Predicted Data\")\n",
        "print(\"Blue indicates the Complete Data\")\n",
        "print(\"Orange indicates the Train Data\")"
      ],
      "metadata": {
        "colab": {
          "base_uri": "https://localhost:8080/",
          "height": 317
        },
        "id": "F6_8gbqZNY3b",
        "outputId": "eef53422-dda8-4d46-a889-d2e155f0bb9b"
      },
      "execution_count": 22,
      "outputs": [
        {
          "output_type": "display_data",
          "data": {
            "text/plain": [
              "<Figure size 432x288 with 1 Axes>"
            ],
            "image/png": "[encoded data removed]"
          },
          "metadata": {
            "needs_background": "light"
          }
        },
        {
          "output_type": "stream",
          "name": "stdout",
          "text": [
            "Green indicates the Predicted Data\n",
            "Blue indicates the Complete Data\n",
            "Orange indicates the Train Data\n"
          ]
        }
      ]
    },
    {
      "cell_type": "code",
      "source": [
        "#Predict the next 28 days Stock Price\n",
        "len(test_data), x_test.shape"
      ],
      "metadata": {
        "colab": {
          "base_uri": "https://localhost:8080/"
        },
        "id": "p-Hd7AK6NcNz",
        "outputId": "65160078-0c0d-4338-ba46-130879a79f78"
      },
      "execution_count": 23,
      "outputs": [
        {
          "output_type": "execute_result",
          "data": {
            "text/plain": [
              "(509, (408, 100, 1))"
            ]
          },
          "metadata": {},
          "execution_count": 23
        }
      ]
    },
    {
      "cell_type": "code",
      "source": [
        "x_input = test_data[409:].reshape(1,-1)\n",
        "x_input.shape"
      ],
      "metadata": {
        "colab": {
          "base_uri": "https://localhost:8080/"
        },
        "id": "MdpEmqefNfs8",
        "outputId": "93eae19f-2beb-44ee-881f-243b280ddd67"
      },
      "execution_count": 24,
      "outputs": [
        {
          "output_type": "execute_result",
          "data": {
            "text/plain": [
              "(1, 100)"
            ]
          },
          "metadata": {},
          "execution_count": 24
        }
      ]
    },
    {
      "cell_type": "code",
      "source": [
        "temp_input = list(x_input)\n",
        "temp_input = temp_input[0].tolist()\n",
        "\n",
        "lst_output=[]\n",
        "n_steps=100\n",
        "nextNumberOfDays = 28\n",
        "i=0\n",
        "\n",
        "while(i<nextNumberOfDays):\n",
        "    \n",
        "    if(len(temp_input)>100):\n",
        "        x_input=np.array(temp_input[1:])\n",
        "        print(\"{} day input {}\".format(i,x_input))\n",
        "        x_input=x_input.reshape(1,-1)\n",
        "        x_input = x_input.reshape((1, n_steps, 1))\n",
        "        yhat = model.predict(x_input, verbose=0)\n",
        "        print(\"{} day output {}\".format(i,yhat))\n",
        "        temp_input.extend(yhat[0].tolist())\n",
        "        temp_input=temp_input[1:]\n",
        "        lst_output.extend(yhat.tolist())\n",
        "        i=i+1\n",
        "    else:\n",
        "        x_input = x_input.reshape((1, n_steps,1))\n",
        "        yhat = model.predict(x_input, verbose=0)\n",
        "        print(yhat[0])\n",
        "        temp_input.extend(yhat[0].tolist())\n",
        "        print(len(temp_input))\n",
        "        lst_output.extend(yhat.tolist())\n",
        "        i=i+1\n",
        "    \n",
        "\n",
        "print(lst_output)"
      ],
      "metadata": {
        "colab": {
          "base_uri": "https://localhost:8080/"
        },
        "id": "pF4saZuqNiil",
        "outputId": "33b41708-43ac-46d6-e344-c427da3c970b"
      },
      "execution_count": 25,
      "outputs": [
        {
          "output_type": "stream",
          "name": "stdout",
          "text": [
            "[0.6104506]\n",
            "101\n",
            "1 day input [0.86013417 0.85464525 0.84448059 0.8072779  0.71843871 0.66192316\n",
            " 0.67696686 0.67554381 0.67310429 0.68428542 0.68936776 0.70217524\n",
            " 0.71803212 0.72941655 0.73144948 0.74486684 0.76926205 0.75991055\n",
            " 0.74242732 0.73958122 0.74771295 0.75991055 0.7584875  0.76621264\n",
            " 0.75462492 0.76316324 0.79670665 0.80585485 0.7889815  0.78003659\n",
            " 0.73978451 0.73002643 0.73490547 0.74872942 0.75991055 0.75462492\n",
            " 0.75401504 0.76174019 0.7737345  0.82008538 0.80585485 0.81154706\n",
            " 0.77434438 0.78633869 0.79284407 0.78328929 0.77109169 0.74385038\n",
            " 0.71193332 0.68733482 0.67818662 0.65257166 0.64301687 0.65643423\n",
            " 0.67656028 0.67371417 0.65114861 0.65521447 0.66761537 0.67838992\n",
            " 0.69993901 0.63122586 0.63508843 0.64098394 0.64545639 0.64118723\n",
            " 0.63854442 0.63081927 0.62472047 0.6330555  0.64728603 0.6574507\n",
            " 0.66761537 0.66720878 0.64159382 0.62776987 0.63651149 0.63630819\n",
            " 0.62980281 0.62817646 0.63813783 0.65358813 0.63183574 0.57653995\n",
            " 0.57816629 0.57613336 0.61943484 0.57979264 0.57288067 0.62573694\n",
            " 0.63102257 0.6361049  0.62776987 0.6269567  0.63590161 0.62594023\n",
            " 0.6391543  0.62614353 0.62268754 0.61045063]\n",
            "1 day output [[0.5909384]]\n",
            "2 day input [0.85464525 0.84448059 0.8072779  0.71843871 0.66192316 0.67696686\n",
            " 0.67554381 0.67310429 0.68428542 0.68936776 0.70217524 0.71803212\n",
            " 0.72941655 0.73144948 0.74486684 0.76926205 0.75991055 0.74242732\n",
            " 0.73958122 0.74771295 0.75991055 0.7584875  0.76621264 0.75462492\n",
            " 0.76316324 0.79670665 0.80585485 0.7889815  0.78003659 0.73978451\n",
            " 0.73002643 0.73490547 0.74872942 0.75991055 0.75462492 0.75401504\n",
            " 0.76174019 0.7737345  0.82008538 0.80585485 0.81154706 0.77434438\n",
            " 0.78633869 0.79284407 0.78328929 0.77109169 0.74385038 0.71193332\n",
            " 0.68733482 0.67818662 0.65257166 0.64301687 0.65643423 0.67656028\n",
            " 0.67371417 0.65114861 0.65521447 0.66761537 0.67838992 0.69993901\n",
            " 0.63122586 0.63508843 0.64098394 0.64545639 0.64118723 0.63854442\n",
            " 0.63081927 0.62472047 0.6330555  0.64728603 0.6574507  0.66761537\n",
            " 0.66720878 0.64159382 0.62776987 0.63651149 0.63630819 0.62980281\n",
            " 0.62817646 0.63813783 0.65358813 0.63183574 0.57653995 0.57816629\n",
            " 0.57613336 0.61943484 0.57979264 0.57288067 0.62573694 0.63102257\n",
            " 0.6361049  0.62776987 0.6269567  0.63590161 0.62594023 0.6391543\n",
            " 0.62614353 0.62268754 0.61045063 0.59093839]\n",
            "2 day output [[0.57184374]]\n",
            "3 day input [0.84448059 0.8072779  0.71843871 0.66192316 0.67696686 0.67554381\n",
            " 0.67310429 0.68428542 0.68936776 0.70217524 0.71803212 0.72941655\n",
            " 0.73144948 0.74486684 0.76926205 0.75991055 0.74242732 0.73958122\n",
            " 0.74771295 0.75991055 0.7584875  0.76621264 0.75462492 0.76316324\n",
            " 0.79670665 0.80585485 0.7889815  0.78003659 0.73978451 0.73002643\n",
            " 0.73490547 0.74872942 0.75991055 0.75462492 0.75401504 0.76174019\n",
            " 0.7737345  0.82008538 0.80585485 0.81154706 0.77434438 0.78633869\n",
            " 0.79284407 0.78328929 0.77109169 0.74385038 0.71193332 0.68733482\n",
            " 0.67818662 0.65257166 0.64301687 0.65643423 0.67656028 0.67371417\n",
            " 0.65114861 0.65521447 0.66761537 0.67838992 0.69993901 0.63122586\n",
            " 0.63508843 0.64098394 0.64545639 0.64118723 0.63854442 0.63081927\n",
            " 0.62472047 0.6330555  0.64728603 0.6574507  0.66761537 0.66720878\n",
            " 0.64159382 0.62776987 0.63651149 0.63630819 0.62980281 0.62817646\n",
            " 0.63813783 0.65358813 0.63183574 0.57653995 0.57816629 0.57613336\n",
            " 0.61943484 0.57979264 0.57288067 0.62573694 0.63102257 0.6361049\n",
            " 0.62776987 0.6269567  0.63590161 0.62594023 0.6391543  0.62614353\n",
            " 0.62268754 0.61045063 0.59093839 0.57184374]\n",
            "3 day output [[0.55533516]]\n",
            "4 day input [0.8072779  0.71843871 0.66192316 0.67696686 0.67554381 0.67310429\n",
            " 0.68428542 0.68936776 0.70217524 0.71803212 0.72941655 0.73144948\n",
            " 0.74486684 0.76926205 0.75991055 0.74242732 0.73958122 0.74771295\n",
            " 0.75991055 0.7584875  0.76621264 0.75462492 0.76316324 0.79670665\n",
            " 0.80585485 0.7889815  0.78003659 0.73978451 0.73002643 0.73490547\n",
            " 0.74872942 0.75991055 0.75462492 0.75401504 0.76174019 0.7737345\n",
            " 0.82008538 0.80585485 0.81154706 0.77434438 0.78633869 0.79284407\n",
            " 0.78328929 0.77109169 0.74385038 0.71193332 0.68733482 0.67818662\n",
            " 0.65257166 0.64301687 0.65643423 0.67656028 0.67371417 0.65114861\n",
            " 0.65521447 0.66761537 0.67838992 0.69993901 0.63122586 0.63508843\n",
            " 0.64098394 0.64545639 0.64118723 0.63854442 0.63081927 0.62472047\n",
            " 0.6330555  0.64728603 0.6574507  0.66761537 0.66720878 0.64159382\n",
            " 0.62776987 0.63651149 0.63630819 0.62980281 0.62817646 0.63813783\n",
            " 0.65358813 0.63183574 0.57653995 0.57816629 0.57613336 0.61943484\n",
            " 0.57979264 0.57288067 0.62573694 0.63102257 0.6361049  0.62776987\n",
            " 0.6269567  0.63590161 0.62594023 0.6391543  0.62614353 0.62268754\n",
            " 0.61045063 0.59093839 0.57184374 0.55533516]\n",
            "4 day output [[0.54154503]]\n",
            "5 day input [0.71843871 0.66192316 0.67696686 0.67554381 0.67310429 0.68428542\n",
            " 0.68936776 0.70217524 0.71803212 0.72941655 0.73144948 0.74486684\n",
            " 0.76926205 0.75991055 0.74242732 0.73958122 0.74771295 0.75991055\n",
            " 0.7584875  0.76621264 0.75462492 0.76316324 0.79670665 0.80585485\n",
            " 0.7889815  0.78003659 0.73978451 0.73002643 0.73490547 0.74872942\n",
            " 0.75991055 0.75462492 0.75401504 0.76174019 0.7737345  0.82008538\n",
            " 0.80585485 0.81154706 0.77434438 0.78633869 0.79284407 0.78328929\n",
            " 0.77109169 0.74385038 0.71193332 0.68733482 0.67818662 0.65257166\n",
            " 0.64301687 0.65643423 0.67656028 0.67371417 0.65114861 0.65521447\n",
            " 0.66761537 0.67838992 0.69993901 0.63122586 0.63508843 0.64098394\n",
            " 0.64545639 0.64118723 0.63854442 0.63081927 0.62472047 0.6330555\n",
            " 0.64728603 0.6574507  0.66761537 0.66720878 0.64159382 0.62776987\n",
            " 0.63651149 0.63630819 0.62980281 0.62817646 0.63813783 0.65358813\n",
            " 0.63183574 0.57653995 0.57816629 0.57613336 0.61943484 0.57979264\n",
            " 0.57288067 0.62573694 0.63102257 0.6361049  0.62776987 0.6269567\n",
            " 0.63590161 0.62594023 0.6391543  0.62614353 0.62268754 0.61045063\n",
            " 0.59093839 0.57184374 0.55533516 0.54154503]\n",
            "5 day output [[0.52988046]]\n",
            "6 day input [0.66192316 0.67696686 0.67554381 0.67310429 0.68428542 0.68936776\n",
            " 0.70217524 0.71803212 0.72941655 0.73144948 0.74486684 0.76926205\n",
            " 0.75991055 0.74242732 0.73958122 0.74771295 0.75991055 0.7584875\n",
            " 0.76621264 0.75462492 0.76316324 0.79670665 0.80585485 0.7889815\n",
            " 0.78003659 0.73978451 0.73002643 0.73490547 0.74872942 0.75991055\n",
            " 0.75462492 0.75401504 0.76174019 0.7737345  0.82008538 0.80585485\n",
            " 0.81154706 0.77434438 0.78633869 0.79284407 0.78328929 0.77109169\n",
            " 0.74385038 0.71193332 0.68733482 0.67818662 0.65257166 0.64301687\n",
            " 0.65643423 0.67656028 0.67371417 0.65114861 0.65521447 0.66761537\n",
            " 0.67838992 0.69993901 0.63122586 0.63508843 0.64098394 0.64545639\n",
            " 0.64118723 0.63854442 0.63081927 0.62472047 0.6330555  0.64728603\n",
            " 0.6574507  0.66761537 0.66720878 0.64159382 0.62776987 0.63651149\n",
            " 0.63630819 0.62980281 0.62817646 0.63813783 0.65358813 0.63183574\n",
            " 0.57653995 0.57816629 0.57613336 0.61943484 0.57979264 0.57288067\n",
            " 0.62573694 0.63102257 0.6361049  0.62776987 0.6269567  0.63590161\n",
            " 0.62594023 0.6391543  0.62614353 0.62268754 0.61045063 0.59093839\n",
            " 0.57184374 0.55533516 0.54154503 0.52988046]\n",
            "6 day output [[0.51960474]]\n",
            "7 day input [0.67696686 0.67554381 0.67310429 0.68428542 0.68936776 0.70217524\n",
            " 0.71803212 0.72941655 0.73144948 0.74486684 0.76926205 0.75991055\n",
            " 0.74242732 0.73958122 0.74771295 0.75991055 0.7584875  0.76621264\n",
            " 0.75462492 0.76316324 0.79670665 0.80585485 0.7889815  0.78003659\n",
            " 0.73978451 0.73002643 0.73490547 0.74872942 0.75991055 0.75462492\n",
            " 0.75401504 0.76174019 0.7737345  0.82008538 0.80585485 0.81154706\n",
            " 0.77434438 0.78633869 0.79284407 0.78328929 0.77109169 0.74385038\n",
            " 0.71193332 0.68733482 0.67818662 0.65257166 0.64301687 0.65643423\n",
            " 0.67656028 0.67371417 0.65114861 0.65521447 0.66761537 0.67838992\n",
            " 0.69993901 0.63122586 0.63508843 0.64098394 0.64545639 0.64118723\n",
            " 0.63854442 0.63081927 0.62472047 0.6330555  0.64728603 0.6574507\n",
            " 0.66761537 0.66720878 0.64159382 0.62776987 0.63651149 0.63630819\n",
            " 0.62980281 0.62817646 0.63813783 0.65358813 0.63183574 0.57653995\n",
            " 0.57816629 0.57613336 0.61943484 0.57979264 0.57288067 0.62573694\n",
            " 0.63102257 0.6361049  0.62776987 0.6269567  0.63590161 0.62594023\n",
            " 0.6391543  0.62614353 0.62268754 0.61045063 0.59093839 0.57184374\n",
            " 0.55533516 0.54154503 0.52988046 0.51960474]\n",
            "7 day output [[0.5101499]]\n",
            "8 day input [0.67554381 0.67310429 0.68428542 0.68936776 0.70217524 0.71803212\n",
            " 0.72941655 0.73144948 0.74486684 0.76926205 0.75991055 0.74242732\n",
            " 0.73958122 0.74771295 0.75991055 0.7584875  0.76621264 0.75462492\n",
            " 0.76316324 0.79670665 0.80585485 0.7889815  0.78003659 0.73978451\n",
            " 0.73002643 0.73490547 0.74872942 0.75991055 0.75462492 0.75401504\n",
            " 0.76174019 0.7737345  0.82008538 0.80585485 0.81154706 0.77434438\n",
            " 0.78633869 0.79284407 0.78328929 0.77109169 0.74385038 0.71193332\n",
            " 0.68733482 0.67818662 0.65257166 0.64301687 0.65643423 0.67656028\n",
            " 0.67371417 0.65114861 0.65521447 0.66761537 0.67838992 0.69993901\n",
            " 0.63122586 0.63508843 0.64098394 0.64545639 0.64118723 0.63854442\n",
            " 0.63081927 0.62472047 0.6330555  0.64728603 0.6574507  0.66761537\n",
            " 0.66720878 0.64159382 0.62776987 0.63651149 0.63630819 0.62980281\n",
            " 0.62817646 0.63813783 0.65358813 0.63183574 0.57653995 0.57816629\n",
            " 0.57613336 0.61943484 0.57979264 0.57288067 0.62573694 0.63102257\n",
            " 0.6361049  0.62776987 0.6269567  0.63590161 0.62594023 0.6391543\n",
            " 0.62614353 0.62268754 0.61045063 0.59093839 0.57184374 0.55533516\n",
            " 0.54154503 0.52988046 0.51960474 0.5101499 ]\n",
            "8 day output [[0.5012105]]\n",
            "9 day input [0.67310429 0.68428542 0.68936776 0.70217524 0.71803212 0.72941655\n",
            " 0.73144948 0.74486684 0.76926205 0.75991055 0.74242732 0.73958122\n",
            " 0.74771295 0.75991055 0.7584875  0.76621264 0.75462492 0.76316324\n",
            " 0.79670665 0.80585485 0.7889815  0.78003659 0.73978451 0.73002643\n",
            " 0.73490547 0.74872942 0.75991055 0.75462492 0.75401504 0.76174019\n",
            " 0.7737345  0.82008538 0.80585485 0.81154706 0.77434438 0.78633869\n",
            " 0.79284407 0.78328929 0.77109169 0.74385038 0.71193332 0.68733482\n",
            " 0.67818662 0.65257166 0.64301687 0.65643423 0.67656028 0.67371417\n",
            " 0.65114861 0.65521447 0.66761537 0.67838992 0.69993901 0.63122586\n",
            " 0.63508843 0.64098394 0.64545639 0.64118723 0.63854442 0.63081927\n",
            " 0.62472047 0.6330555  0.64728603 0.6574507  0.66761537 0.66720878\n",
            " 0.64159382 0.62776987 0.63651149 0.63630819 0.62980281 0.62817646\n",
            " 0.63813783 0.65358813 0.63183574 0.57653995 0.57816629 0.57613336\n",
            " 0.61943484 0.57979264 0.57288067 0.62573694 0.63102257 0.6361049\n",
            " 0.62776987 0.6269567  0.63590161 0.62594023 0.6391543  0.62614353\n",
            " 0.62268754 0.61045063 0.59093839 0.57184374 0.55533516 0.54154503\n",
            " 0.52988046 0.51960474 0.5101499  0.50121051]\n",
            "9 day output [[0.49270636]]\n",
            "10 day input [0.68428542 0.68936776 0.70217524 0.71803212 0.72941655 0.73144948\n",
            " 0.74486684 0.76926205 0.75991055 0.74242732 0.73958122 0.74771295\n",
            " 0.75991055 0.7584875  0.76621264 0.75462492 0.76316324 0.79670665\n",
            " 0.80585485 0.7889815  0.78003659 0.73978451 0.73002643 0.73490547\n",
            " 0.74872942 0.75991055 0.75462492 0.75401504 0.76174019 0.7737345\n",
            " 0.82008538 0.80585485 0.81154706 0.77434438 0.78633869 0.79284407\n",
            " 0.78328929 0.77109169 0.74385038 0.71193332 0.68733482 0.67818662\n",
            " 0.65257166 0.64301687 0.65643423 0.67656028 0.67371417 0.65114861\n",
            " 0.65521447 0.66761537 0.67838992 0.69993901 0.63122586 0.63508843\n",
            " 0.64098394 0.64545639 0.64118723 0.63854442 0.63081927 0.62472047\n",
            " 0.6330555  0.64728603 0.6574507  0.66761537 0.66720878 0.64159382\n",
            " 0.62776987 0.63651149 0.63630819 0.62980281 0.62817646 0.63813783\n",
            " 0.65358813 0.63183574 0.57653995 0.57816629 0.57613336 0.61943484\n",
            " 0.57979264 0.57288067 0.62573694 0.63102257 0.6361049  0.62776987\n",
            " 0.6269567  0.63590161 0.62594023 0.6391543  0.62614353 0.62268754\n",
            " 0.61045063 0.59093839 0.57184374 0.55533516 0.54154503 0.52988046\n",
            " 0.51960474 0.5101499  0.50121051 0.49270636]\n",
            "10 day output [[0.48469394]]\n",
            "11 day input [0.68936776 0.70217524 0.71803212 0.72941655 0.73144948 0.74486684\n",
            " 0.76926205 0.75991055 0.74242732 0.73958122 0.74771295 0.75991055\n",
            " 0.7584875  0.76621264 0.75462492 0.76316324 0.79670665 0.80585485\n",
            " 0.7889815  0.78003659 0.73978451 0.73002643 0.73490547 0.74872942\n",
            " 0.75991055 0.75462492 0.75401504 0.76174019 0.7737345  0.82008538\n",
            " 0.80585485 0.81154706 0.77434438 0.78633869 0.79284407 0.78328929\n",
            " 0.77109169 0.74385038 0.71193332 0.68733482 0.67818662 0.65257166\n",
            " 0.64301687 0.65643423 0.67656028 0.67371417 0.65114861 0.65521447\n",
            " 0.66761537 0.67838992 0.69993901 0.63122586 0.63508843 0.64098394\n",
            " 0.64545639 0.64118723 0.63854442 0.63081927 0.62472047 0.6330555\n",
            " 0.64728603 0.6574507  0.66761537 0.66720878 0.64159382 0.62776987\n",
            " 0.63651149 0.63630819 0.62980281 0.62817646 0.63813783 0.65358813\n",
            " 0.63183574 0.57653995 0.57816629 0.57613336 0.61943484 0.57979264\n",
            " 0.57288067 0.62573694 0.63102257 0.6361049  0.62776987 0.6269567\n",
            " 0.63590161 0.62594023 0.6391543  0.62614353 0.62268754 0.61045063\n",
            " 0.59093839 0.57184374 0.55533516 0.54154503 0.52988046 0.51960474\n",
            " 0.5101499  0.50121051 0.49270636 0.48469394]\n",
            "11 day output [[0.47727647]]\n",
            "12 day input [0.70217524 0.71803212 0.72941655 0.73144948 0.74486684 0.76926205\n",
            " 0.75991055 0.74242732 0.73958122 0.74771295 0.75991055 0.7584875\n",
            " 0.76621264 0.75462492 0.76316324 0.79670665 0.80585485 0.7889815\n",
            " 0.78003659 0.73978451 0.73002643 0.73490547 0.74872942 0.75991055\n",
            " 0.75462492 0.75401504 0.76174019 0.7737345  0.82008538 0.80585485\n",
            " 0.81154706 0.77434438 0.78633869 0.79284407 0.78328929 0.77109169\n",
            " 0.74385038 0.71193332 0.68733482 0.67818662 0.65257166 0.64301687\n",
            " 0.65643423 0.67656028 0.67371417 0.65114861 0.65521447 0.66761537\n",
            " 0.67838992 0.69993901 0.63122586 0.63508843 0.64098394 0.64545639\n",
            " 0.64118723 0.63854442 0.63081927 0.62472047 0.6330555  0.64728603\n",
            " 0.6574507  0.66761537 0.66720878 0.64159382 0.62776987 0.63651149\n",
            " 0.63630819 0.62980281 0.62817646 0.63813783 0.65358813 0.63183574\n",
            " 0.57653995 0.57816629 0.57613336 0.61943484 0.57979264 0.57288067\n",
            " 0.62573694 0.63102257 0.6361049  0.62776987 0.6269567  0.63590161\n",
            " 0.62594023 0.6391543  0.62614353 0.62268754 0.61045063 0.59093839\n",
            " 0.57184374 0.55533516 0.54154503 0.52988046 0.51960474 0.5101499\n",
            " 0.50121051 0.49270636 0.48469394 0.47727647]\n",
            "12 day output [[0.47054127]]\n",
            "13 day input [0.71803212 0.72941655 0.73144948 0.74486684 0.76926205 0.75991055\n",
            " 0.74242732 0.73958122 0.74771295 0.75991055 0.7584875  0.76621264\n",
            " 0.75462492 0.76316324 0.79670665 0.80585485 0.7889815  0.78003659\n",
            " 0.73978451 0.73002643 0.73490547 0.74872942 0.75991055 0.75462492\n",
            " 0.75401504 0.76174019 0.7737345  0.82008538 0.80585485 0.81154706\n",
            " 0.77434438 0.78633869 0.79284407 0.78328929 0.77109169 0.74385038\n",
            " 0.71193332 0.68733482 0.67818662 0.65257166 0.64301687 0.65643423\n",
            " 0.67656028 0.67371417 0.65114861 0.65521447 0.66761537 0.67838992\n",
            " 0.69993901 0.63122586 0.63508843 0.64098394 0.64545639 0.64118723\n",
            " 0.63854442 0.63081927 0.62472047 0.6330555  0.64728603 0.6574507\n",
            " 0.66761537 0.66720878 0.64159382 0.62776987 0.63651149 0.63630819\n",
            " 0.62980281 0.62817646 0.63813783 0.65358813 0.63183574 0.57653995\n",
            " 0.57816629 0.57613336 0.61943484 0.57979264 0.57288067 0.62573694\n",
            " 0.63102257 0.6361049  0.62776987 0.6269567  0.63590161 0.62594023\n",
            " 0.6391543  0.62614353 0.62268754 0.61045063 0.59093839 0.57184374\n",
            " 0.55533516 0.54154503 0.52988046 0.51960474 0.5101499  0.50121051\n",
            " 0.49270636 0.48469394 0.47727647 0.47054127]\n",
            "13 day output [[0.4645273]]\n",
            "14 day input [0.72941655 0.73144948 0.74486684 0.76926205 0.75991055 0.74242732\n",
            " 0.73958122 0.74771295 0.75991055 0.7584875  0.76621264 0.75462492\n",
            " 0.76316324 0.79670665 0.80585485 0.7889815  0.78003659 0.73978451\n",
            " 0.73002643 0.73490547 0.74872942 0.75991055 0.75462492 0.75401504\n",
            " 0.76174019 0.7737345  0.82008538 0.80585485 0.81154706 0.77434438\n",
            " 0.78633869 0.79284407 0.78328929 0.77109169 0.74385038 0.71193332\n",
            " 0.68733482 0.67818662 0.65257166 0.64301687 0.65643423 0.67656028\n",
            " 0.67371417 0.65114861 0.65521447 0.66761537 0.67838992 0.69993901\n",
            " 0.63122586 0.63508843 0.64098394 0.64545639 0.64118723 0.63854442\n",
            " 0.63081927 0.62472047 0.6330555  0.64728603 0.6574507  0.66761537\n",
            " 0.66720878 0.64159382 0.62776987 0.63651149 0.63630819 0.62980281\n",
            " 0.62817646 0.63813783 0.65358813 0.63183574 0.57653995 0.57816629\n",
            " 0.57613336 0.61943484 0.57979264 0.57288067 0.62573694 0.63102257\n",
            " 0.6361049  0.62776987 0.6269567  0.63590161 0.62594023 0.6391543\n",
            " 0.62614353 0.62268754 0.61045063 0.59093839 0.57184374 0.55533516\n",
            " 0.54154503 0.52988046 0.51960474 0.5101499  0.50121051 0.49270636\n",
            " 0.48469394 0.47727647 0.47054127 0.46452731]\n",
            "14 day output [[0.4591586]]\n",
            "15 day input [0.73144948 0.74486684 0.76926205 0.75991055 0.74242732 0.73958122\n",
            " 0.74771295 0.75991055 0.7584875  0.76621264 0.75462492 0.76316324\n",
            " 0.79670665 0.80585485 0.7889815  0.78003659 0.73978451 0.73002643\n",
            " 0.73490547 0.74872942 0.75991055 0.75462492 0.75401504 0.76174019\n",
            " 0.7737345  0.82008538 0.80585485 0.81154706 0.77434438 0.78633869\n",
            " 0.79284407 0.78328929 0.77109169 0.74385038 0.71193332 0.68733482\n",
            " 0.67818662 0.65257166 0.64301687 0.65643423 0.67656028 0.67371417\n",
            " 0.65114861 0.65521447 0.66761537 0.67838992 0.69993901 0.63122586\n",
            " 0.63508843 0.64098394 0.64545639 0.64118723 0.63854442 0.63081927\n",
            " 0.62472047 0.6330555  0.64728603 0.6574507  0.66761537 0.66720878\n",
            " 0.64159382 0.62776987 0.63651149 0.63630819 0.62980281 0.62817646\n",
            " 0.63813783 0.65358813 0.63183574 0.57653995 0.57816629 0.57613336\n",
            " 0.61943484 0.57979264 0.57288067 0.62573694 0.63102257 0.6361049\n",
            " 0.62776987 0.6269567  0.63590161 0.62594023 0.6391543  0.62614353\n",
            " 0.62268754 0.61045063 0.59093839 0.57184374 0.55533516 0.54154503\n",
            " 0.52988046 0.51960474 0.5101499  0.50121051 0.49270636 0.48469394\n",
            " 0.47727647 0.47054127 0.46452731 0.4591586 ]\n",
            "15 day output [[0.45440474]]\n",
            "16 day input [0.74486684 0.76926205 0.75991055 0.74242732 0.73958122 0.74771295\n",
            " 0.75991055 0.7584875  0.76621264 0.75462492 0.76316324 0.79670665\n",
            " 0.80585485 0.7889815  0.78003659 0.73978451 0.73002643 0.73490547\n",
            " 0.74872942 0.75991055 0.75462492 0.75401504 0.76174019 0.7737345\n",
            " 0.82008538 0.80585485 0.81154706 0.77434438 0.78633869 0.79284407\n",
            " 0.78328929 0.77109169 0.74385038 0.71193332 0.68733482 0.67818662\n",
            " 0.65257166 0.64301687 0.65643423 0.67656028 0.67371417 0.65114861\n",
            " 0.65521447 0.66761537 0.67838992 0.69993901 0.63122586 0.63508843\n",
            " 0.64098394 0.64545639 0.64118723 0.63854442 0.63081927 0.62472047\n",
            " 0.6330555  0.64728603 0.6574507  0.66761537 0.66720878 0.64159382\n",
            " 0.62776987 0.63651149 0.63630819 0.62980281 0.62817646 0.63813783\n",
            " 0.65358813 0.63183574 0.57653995 0.57816629 0.57613336 0.61943484\n",
            " 0.57979264 0.57288067 0.62573694 0.63102257 0.6361049  0.62776987\n",
            " 0.6269567  0.63590161 0.62594023 0.6391543  0.62614353 0.62268754\n",
            " 0.61045063 0.59093839 0.57184374 0.55533516 0.54154503 0.52988046\n",
            " 0.51960474 0.5101499  0.50121051 0.49270636 0.48469394 0.47727647\n",
            " 0.47054127 0.46452731 0.4591586  0.45440474]\n",
            "16 day output [[0.45012495]]\n",
            "17 day input [0.76926205 0.75991055 0.74242732 0.73958122 0.74771295 0.75991055\n",
            " 0.7584875  0.76621264 0.75462492 0.76316324 0.79670665 0.80585485\n",
            " 0.7889815  0.78003659 0.73978451 0.73002643 0.73490547 0.74872942\n",
            " 0.75991055 0.75462492 0.75401504 0.76174019 0.7737345  0.82008538\n",
            " 0.80585485 0.81154706 0.77434438 0.78633869 0.79284407 0.78328929\n",
            " 0.77109169 0.74385038 0.71193332 0.68733482 0.67818662 0.65257166\n",
            " 0.64301687 0.65643423 0.67656028 0.67371417 0.65114861 0.65521447\n",
            " 0.66761537 0.67838992 0.69993901 0.63122586 0.63508843 0.64098394\n",
            " 0.64545639 0.64118723 0.63854442 0.63081927 0.62472047 0.6330555\n",
            " 0.64728603 0.6574507  0.66761537 0.66720878 0.64159382 0.62776987\n",
            " 0.63651149 0.63630819 0.62980281 0.62817646 0.63813783 0.65358813\n",
            " 0.63183574 0.57653995 0.57816629 0.57613336 0.61943484 0.57979264\n",
            " 0.57288067 0.62573694 0.63102257 0.6361049  0.62776987 0.6269567\n",
            " 0.63590161 0.62594023 0.6391543  0.62614353 0.62268754 0.61045063\n",
            " 0.59093839 0.57184374 0.55533516 0.54154503 0.52988046 0.51960474\n",
            " 0.5101499  0.50121051 0.49270636 0.48469394 0.47727647 0.47054127\n",
            " 0.46452731 0.4591586  0.45440474 0.45012495]\n",
            "17 day output [[0.44637933]]\n",
            "18 day input [0.75991055 0.74242732 0.73958122 0.74771295 0.75991055 0.7584875\n",
            " 0.76621264 0.75462492 0.76316324 0.79670665 0.80585485 0.7889815\n",
            " 0.78003659 0.73978451 0.73002643 0.73490547 0.74872942 0.75991055\n",
            " 0.75462492 0.75401504 0.76174019 0.7737345  0.82008538 0.80585485\n",
            " 0.81154706 0.77434438 0.78633869 0.79284407 0.78328929 0.77109169\n",
            " 0.74385038 0.71193332 0.68733482 0.67818662 0.65257166 0.64301687\n",
            " 0.65643423 0.67656028 0.67371417 0.65114861 0.65521447 0.66761537\n",
            " 0.67838992 0.69993901 0.63122586 0.63508843 0.64098394 0.64545639\n",
            " 0.64118723 0.63854442 0.63081927 0.62472047 0.6330555  0.64728603\n",
            " 0.6574507  0.66761537 0.66720878 0.64159382 0.62776987 0.63651149\n",
            " 0.63630819 0.62980281 0.62817646 0.63813783 0.65358813 0.63183574\n",
            " 0.57653995 0.57816629 0.57613336 0.61943484 0.57979264 0.57288067\n",
            " 0.62573694 0.63102257 0.6361049  0.62776987 0.6269567  0.63590161\n",
            " 0.62594023 0.6391543  0.62614353 0.62268754 0.61045063 0.59093839\n",
            " 0.57184374 0.55533516 0.54154503 0.52988046 0.51960474 0.5101499\n",
            " 0.50121051 0.49270636 0.48469394 0.47727647 0.47054127 0.46452731\n",
            " 0.4591586  0.45440474 0.45012495 0.44637933]\n",
            "18 day output [[0.44310516]]\n",
            "19 day input [0.74242732 0.73958122 0.74771295 0.75991055 0.7584875  0.76621264\n",
            " 0.75462492 0.76316324 0.79670665 0.80585485 0.7889815  0.78003659\n",
            " 0.73978451 0.73002643 0.73490547 0.74872942 0.75991055 0.75462492\n",
            " 0.75401504 0.76174019 0.7737345  0.82008538 0.80585485 0.81154706\n",
            " 0.77434438 0.78633869 0.79284407 0.78328929 0.77109169 0.74385038\n",
            " 0.71193332 0.68733482 0.67818662 0.65257166 0.64301687 0.65643423\n",
            " 0.67656028 0.67371417 0.65114861 0.65521447 0.66761537 0.67838992\n",
            " 0.69993901 0.63122586 0.63508843 0.64098394 0.64545639 0.64118723\n",
            " 0.63854442 0.63081927 0.62472047 0.6330555  0.64728603 0.6574507\n",
            " 0.66761537 0.66720878 0.64159382 0.62776987 0.63651149 0.63630819\n",
            " 0.62980281 0.62817646 0.63813783 0.65358813 0.63183574 0.57653995\n",
            " 0.57816629 0.57613336 0.61943484 0.57979264 0.57288067 0.62573694\n",
            " 0.63102257 0.6361049  0.62776987 0.6269567  0.63590161 0.62594023\n",
            " 0.6391543  0.62614353 0.62268754 0.61045063 0.59093839 0.57184374\n",
            " 0.55533516 0.54154503 0.52988046 0.51960474 0.5101499  0.50121051\n",
            " 0.49270636 0.48469394 0.47727647 0.47054127 0.46452731 0.4591586\n",
            " 0.45440474 0.45012495 0.44637933 0.44310516]\n",
            "19 day output [[0.440221]]\n",
            "20 day input [0.73958122 0.74771295 0.75991055 0.7584875  0.76621264 0.75462492\n",
            " 0.76316324 0.79670665 0.80585485 0.7889815  0.78003659 0.73978451\n",
            " 0.73002643 0.73490547 0.74872942 0.75991055 0.75462492 0.75401504\n",
            " 0.76174019 0.7737345  0.82008538 0.80585485 0.81154706 0.77434438\n",
            " 0.78633869 0.79284407 0.78328929 0.77109169 0.74385038 0.71193332\n",
            " 0.68733482 0.67818662 0.65257166 0.64301687 0.65643423 0.67656028\n",
            " 0.67371417 0.65114861 0.65521447 0.66761537 0.67838992 0.69993901\n",
            " 0.63122586 0.63508843 0.64098394 0.64545639 0.64118723 0.63854442\n",
            " 0.63081927 0.62472047 0.6330555  0.64728603 0.6574507  0.66761537\n",
            " 0.66720878 0.64159382 0.62776987 0.63651149 0.63630819 0.62980281\n",
            " 0.62817646 0.63813783 0.65358813 0.63183574 0.57653995 0.57816629\n",
            " 0.57613336 0.61943484 0.57979264 0.57288067 0.62573694 0.63102257\n",
            " 0.6361049  0.62776987 0.6269567  0.63590161 0.62594023 0.6391543\n",
            " 0.62614353 0.62268754 0.61045063 0.59093839 0.57184374 0.55533516\n",
            " 0.54154503 0.52988046 0.51960474 0.5101499  0.50121051 0.49270636\n",
            " 0.48469394 0.47727647 0.47054127 0.46452731 0.4591586  0.45440474\n",
            " 0.45012495 0.44637933 0.44310516 0.44022101]\n",
            "20 day output [[0.43764818]]\n",
            "21 day input [0.74771295 0.75991055 0.7584875  0.76621264 0.75462492 0.76316324\n",
            " 0.79670665 0.80585485 0.7889815  0.78003659 0.73978451 0.73002643\n",
            " 0.73490547 0.74872942 0.75991055 0.75462492 0.75401504 0.76174019\n",
            " 0.7737345  0.82008538 0.80585485 0.81154706 0.77434438 0.78633869\n",
            " 0.79284407 0.78328929 0.77109169 0.74385038 0.71193332 0.68733482\n",
            " 0.67818662 0.65257166 0.64301687 0.65643423 0.67656028 0.67371417\n",
            " 0.65114861 0.65521447 0.66761537 0.67838992 0.69993901 0.63122586\n",
            " 0.63508843 0.64098394 0.64545639 0.64118723 0.63854442 0.63081927\n",
            " 0.62472047 0.6330555  0.64728603 0.6574507  0.66761537 0.66720878\n",
            " 0.64159382 0.62776987 0.63651149 0.63630819 0.62980281 0.62817646\n",
            " 0.63813783 0.65358813 0.63183574 0.57653995 0.57816629 0.57613336\n",
            " 0.61943484 0.57979264 0.57288067 0.62573694 0.63102257 0.6361049\n",
            " 0.62776987 0.6269567  0.63590161 0.62594023 0.6391543  0.62614353\n",
            " 0.62268754 0.61045063 0.59093839 0.57184374 0.55533516 0.54154503\n",
            " 0.52988046 0.51960474 0.5101499  0.50121051 0.49270636 0.48469394\n",
            " 0.47727647 0.47054127 0.46452731 0.4591586  0.45440474 0.45012495\n",
            " 0.44637933 0.44310516 0.44022101 0.43764818]\n",
            "21 day output [[0.43531886]]\n",
            "22 day input [0.75991055 0.7584875  0.76621264 0.75462492 0.76316324 0.79670665\n",
            " 0.80585485 0.7889815  0.78003659 0.73978451 0.73002643 0.73490547\n",
            " 0.74872942 0.75991055 0.75462492 0.75401504 0.76174019 0.7737345\n",
            " 0.82008538 0.80585485 0.81154706 0.77434438 0.78633869 0.79284407\n",
            " 0.78328929 0.77109169 0.74385038 0.71193332 0.68733482 0.67818662\n",
            " 0.65257166 0.64301687 0.65643423 0.67656028 0.67371417 0.65114861\n",
            " 0.65521447 0.66761537 0.67838992 0.69993901 0.63122586 0.63508843\n",
            " 0.64098394 0.64545639 0.64118723 0.63854442 0.63081927 0.62472047\n",
            " 0.6330555  0.64728603 0.6574507  0.66761537 0.66720878 0.64159382\n",
            " 0.62776987 0.63651149 0.63630819 0.62980281 0.62817646 0.63813783\n",
            " 0.65358813 0.63183574 0.57653995 0.57816629 0.57613336 0.61943484\n",
            " 0.57979264 0.57288067 0.62573694 0.63102257 0.6361049  0.62776987\n",
            " 0.6269567  0.63590161 0.62594023 0.6391543  0.62614353 0.62268754\n",
            " 0.61045063 0.59093839 0.57184374 0.55533516 0.54154503 0.52988046\n",
            " 0.51960474 0.5101499  0.50121051 0.49270636 0.48469394 0.47727647\n",
            " 0.47054127 0.46452731 0.4591586  0.45440474 0.45012495 0.44637933\n",
            " 0.44310516 0.44022101 0.43764818 0.43531886]\n",
            "22 day output [[0.43317956]]\n",
            "23 day input [0.7584875  0.76621264 0.75462492 0.76316324 0.79670665 0.80585485\n",
            " 0.7889815  0.78003659 0.73978451 0.73002643 0.73490547 0.74872942\n",
            " 0.75991055 0.75462492 0.75401504 0.76174019 0.7737345  0.82008538\n",
            " 0.80585485 0.81154706 0.77434438 0.78633869 0.79284407 0.78328929\n",
            " 0.77109169 0.74385038 0.71193332 0.68733482 0.67818662 0.65257166\n",
            " 0.64301687 0.65643423 0.67656028 0.67371417 0.65114861 0.65521447\n",
            " 0.66761537 0.67838992 0.69993901 0.63122586 0.63508843 0.64098394\n",
            " 0.64545639 0.64118723 0.63854442 0.63081927 0.62472047 0.6330555\n",
            " 0.64728603 0.6574507  0.66761537 0.66720878 0.64159382 0.62776987\n",
            " 0.63651149 0.63630819 0.62980281 0.62817646 0.63813783 0.65358813\n",
            " 0.63183574 0.57653995 0.57816629 0.57613336 0.61943484 0.57979264\n",
            " 0.57288067 0.62573694 0.63102257 0.6361049  0.62776987 0.6269567\n",
            " 0.63590161 0.62594023 0.6391543  0.62614353 0.62268754 0.61045063\n",
            " 0.59093839 0.57184374 0.55533516 0.54154503 0.52988046 0.51960474\n",
            " 0.5101499  0.50121051 0.49270636 0.48469394 0.47727647 0.47054127\n",
            " 0.46452731 0.4591586  0.45440474 0.45012495 0.44637933 0.44310516\n",
            " 0.44022101 0.43764818 0.43531886 0.43317956]\n",
            "23 day output [[0.43119097]]\n",
            "24 day input [0.76621264 0.75462492 0.76316324 0.79670665 0.80585485 0.7889815\n",
            " 0.78003659 0.73978451 0.73002643 0.73490547 0.74872942 0.75991055\n",
            " 0.75462492 0.75401504 0.76174019 0.7737345  0.82008538 0.80585485\n",
            " 0.81154706 0.77434438 0.78633869 0.79284407 0.78328929 0.77109169\n",
            " 0.74385038 0.71193332 0.68733482 0.67818662 0.65257166 0.64301687\n",
            " 0.65643423 0.67656028 0.67371417 0.65114861 0.65521447 0.66761537\n",
            " 0.67838992 0.69993901 0.63122586 0.63508843 0.64098394 0.64545639\n",
            " 0.64118723 0.63854442 0.63081927 0.62472047 0.6330555  0.64728603\n",
            " 0.6574507  0.66761537 0.66720878 0.64159382 0.62776987 0.63651149\n",
            " 0.63630819 0.62980281 0.62817646 0.63813783 0.65358813 0.63183574\n",
            " 0.57653995 0.57816629 0.57613336 0.61943484 0.57979264 0.57288067\n",
            " 0.62573694 0.63102257 0.6361049  0.62776987 0.6269567  0.63590161\n",
            " 0.62594023 0.6391543  0.62614353 0.62268754 0.61045063 0.59093839\n",
            " 0.57184374 0.55533516 0.54154503 0.52988046 0.51960474 0.5101499\n",
            " 0.50121051 0.49270636 0.48469394 0.47727647 0.47054127 0.46452731\n",
            " 0.4591586  0.45440474 0.45012495 0.44637933 0.44310516 0.44022101\n",
            " 0.43764818 0.43531886 0.43317956 0.43119097]\n",
            "24 day output [[0.42932498]]\n",
            "25 day input [0.75462492 0.76316324 0.79670665 0.80585485 0.7889815  0.78003659\n",
            " 0.73978451 0.73002643 0.73490547 0.74872942 0.75991055 0.75462492\n",
            " 0.75401504 0.76174019 0.7737345  0.82008538 0.80585485 0.81154706\n",
            " 0.77434438 0.78633869 0.79284407 0.78328929 0.77109169 0.74385038\n",
            " 0.71193332 0.68733482 0.67818662 0.65257166 0.64301687 0.65643423\n",
            " 0.67656028 0.67371417 0.65114861 0.65521447 0.66761537 0.67838992\n",
            " 0.69993901 0.63122586 0.63508843 0.64098394 0.64545639 0.64118723\n",
            " 0.63854442 0.63081927 0.62472047 0.6330555  0.64728603 0.6574507\n",
            " 0.66761537 0.66720878 0.64159382 0.62776987 0.63651149 0.63630819\n",
            " 0.62980281 0.62817646 0.63813783 0.65358813 0.63183574 0.57653995\n",
            " 0.57816629 0.57613336 0.61943484 0.57979264 0.57288067 0.62573694\n",
            " 0.63102257 0.6361049  0.62776987 0.6269567  0.63590161 0.62594023\n",
            " 0.6391543  0.62614353 0.62268754 0.61045063 0.59093839 0.57184374\n",
            " 0.55533516 0.54154503 0.52988046 0.51960474 0.5101499  0.50121051\n",
            " 0.49270636 0.48469394 0.47727647 0.47054127 0.46452731 0.4591586\n",
            " 0.45440474 0.45012495 0.44637933 0.44310516 0.44022101 0.43764818\n",
            " 0.43531886 0.43317956 0.43119097 0.42932498]\n",
            "25 day output [[0.4275622]]\n",
            "26 day input [0.76316324 0.79670665 0.80585485 0.7889815  0.78003659 0.73978451\n",
            " 0.73002643 0.73490547 0.74872942 0.75991055 0.75462492 0.75401504\n",
            " 0.76174019 0.7737345  0.82008538 0.80585485 0.81154706 0.77434438\n",
            " 0.78633869 0.79284407 0.78328929 0.77109169 0.74385038 0.71193332\n",
            " 0.68733482 0.67818662 0.65257166 0.64301687 0.65643423 0.67656028\n",
            " 0.67371417 0.65114861 0.65521447 0.66761537 0.67838992 0.69993901\n",
            " 0.63122586 0.63508843 0.64098394 0.64545639 0.64118723 0.63854442\n",
            " 0.63081927 0.62472047 0.6330555  0.64728603 0.6574507  0.66761537\n",
            " 0.66720878 0.64159382 0.62776987 0.63651149 0.63630819 0.62980281\n",
            " 0.62817646 0.63813783 0.65358813 0.63183574 0.57653995 0.57816629\n",
            " 0.57613336 0.61943484 0.57979264 0.57288067 0.62573694 0.63102257\n",
            " 0.6361049  0.62776987 0.6269567  0.63590161 0.62594023 0.6391543\n",
            " 0.62614353 0.62268754 0.61045063 0.59093839 0.57184374 0.55533516\n",
            " 0.54154503 0.52988046 0.51960474 0.5101499  0.50121051 0.49270636\n",
            " 0.48469394 0.47727647 0.47054127 0.46452731 0.4591586  0.45440474\n",
            " 0.45012495 0.44637933 0.44310516 0.44022101 0.43764818 0.43531886\n",
            " 0.43317956 0.43119097 0.42932498 0.42756221]\n",
            "26 day output [[0.4258887]]\n",
            "27 day input [0.79670665 0.80585485 0.7889815  0.78003659 0.73978451 0.73002643\n",
            " 0.73490547 0.74872942 0.75991055 0.75462492 0.75401504 0.76174019\n",
            " 0.7737345  0.82008538 0.80585485 0.81154706 0.77434438 0.78633869\n",
            " 0.79284407 0.78328929 0.77109169 0.74385038 0.71193332 0.68733482\n",
            " 0.67818662 0.65257166 0.64301687 0.65643423 0.67656028 0.67371417\n",
            " 0.65114861 0.65521447 0.66761537 0.67838992 0.69993901 0.63122586\n",
            " 0.63508843 0.64098394 0.64545639 0.64118723 0.63854442 0.63081927\n",
            " 0.62472047 0.6330555  0.64728603 0.6574507  0.66761537 0.66720878\n",
            " 0.64159382 0.62776987 0.63651149 0.63630819 0.62980281 0.62817646\n",
            " 0.63813783 0.65358813 0.63183574 0.57653995 0.57816629 0.57613336\n",
            " 0.61943484 0.57979264 0.57288067 0.62573694 0.63102257 0.6361049\n",
            " 0.62776987 0.6269567  0.63590161 0.62594023 0.6391543  0.62614353\n",
            " 0.62268754 0.61045063 0.59093839 0.57184374 0.55533516 0.54154503\n",
            " 0.52988046 0.51960474 0.5101499  0.50121051 0.49270636 0.48469394\n",
            " 0.47727647 0.47054127 0.46452731 0.4591586  0.45440474 0.45012495\n",
            " 0.44637933 0.44310516 0.44022101 0.43764818 0.43531886 0.43317956\n",
            " 0.43119097 0.42932498 0.42756221 0.42588869]\n",
            "27 day output [[0.42429364]]\n",
            "[[0.6104506254196167], [0.5909383893013], [0.5718437433242798], [0.5553351640701294], [0.541545033454895], [0.5298804640769958], [0.5196047425270081], [0.5101498961448669], [0.5012105107307434], [0.4927063584327698], [0.4846939444541931], [0.477276474237442], [0.4705412685871124], [0.46452730894088745], [0.45915859937667847], [0.45440474152565], [0.45012494921684265], [0.44637933373451233], [0.44310516119003296], [0.44022101163864136], [0.4376481771469116], [0.43531885743141174], [0.4331795573234558], [0.43119096755981445], [0.4293249845504761], [0.4275622069835663], [0.42588868737220764], [0.4242936372756958]]\n"
          ]
        }
      ]
    },
    {
      "cell_type": "code",
      "source": [
        "day_new = np.arange(1,101)\n",
        "day_pred = np.arange(101,129)"
      ],
      "metadata": {
        "id": "crpEr6wbNo4l"
      },
      "execution_count": 26,
      "outputs": []
    },
    {
      "cell_type": "code",
      "source": [
        "day_new.shape"
      ],
      "metadata": {
        "colab": {
          "base_uri": "https://localhost:8080/"
        },
        "id": "3OVNHXj9NvzA",
        "outputId": "0a7e0a87-dc28-4620-f2b7-aee8c3e497c7"
      },
      "execution_count": 27,
      "outputs": [
        {
          "output_type": "execute_result",
          "data": {
            "text/plain": [
              "(100,)"
            ]
          },
          "metadata": {},
          "execution_count": 27
        }
      ]
    },
    {
      "cell_type": "code",
      "source": [
        "day_pred.shape"
      ],
      "metadata": {
        "colab": {
          "base_uri": "https://localhost:8080/"
        },
        "id": "bWX5cc0nNyDU",
        "outputId": "451d266d-2ebe-4342-8fbf-d36d52d9ee50"
      },
      "execution_count": 28,
      "outputs": [
        {
          "output_type": "execute_result",
          "data": {
            "text/plain": [
              "(28,)"
            ]
          },
          "metadata": {},
          "execution_count": 28
        }
      ]
    },
    {
      "cell_type": "code",
      "source": [
        "df3 = df_high.tolist()\n",
        "df3.extend(lst_output)\n",
        "\n",
        "len(df_high)"
      ],
      "metadata": {
        "colab": {
          "base_uri": "https://localhost:8080/"
        },
        "id": "-rCeVup1Nz9y",
        "outputId": "9dfc1fb8-6d48-47fd-f68a-30b0f5746d00"
      },
      "execution_count": 29,
      "outputs": [
        {
          "output_type": "execute_result",
          "data": {
            "text/plain": [
              "2035"
            ]
          },
          "metadata": {},
          "execution_count": 29
        }
      ]
    },
    {
      "cell_type": "code",
      "source": [
        "plt.plot(day_new, scaler.inverse_transform(df_high[1935:]))\n",
        "plt.plot(day_pred, scaler.inverse_transform(lst_output))"
      ],
      "metadata": {
        "colab": {
          "base_uri": "https://localhost:8080/",
          "height": 283
        },
        "id": "nmpuheLYN2ME",
        "outputId": "955c3210-7804-47ee-fa64-0aab3d8001d3"
      },
      "execution_count": 30,
      "outputs": [
        {
          "output_type": "execute_result",
          "data": {
            "text/plain": [
              "[<matplotlib.lines.Line2D at 0x7f0733c87d10>]"
            ]
          },
          "metadata": {},
          "execution_count": 30
        },
        {
          "output_type": "display_data",
          "data": {
            "text/plain": [
              "<Figure size 432x288 with 1 Axes>"
            ],
            "image/png": "[encoded data removed]"
          },
          "metadata": {
            "needs_background": "light"
          }
        }
      ]
    },
    {
      "cell_type": "code",
      "source": [
        "df3=df_high.tolist()\n",
        "df3.extend(lst_output)\n",
        "plt.plot(df3[2000:])"
      ],
      "metadata": {
        "colab": {
          "base_uri": "https://localhost:8080/",
          "height": 282
        },
        "id": "Sih_iZSdN6Fw",
        "outputId": "00eb1bcf-15f6-4194-b921-beb8b93d1658"
      },
      "execution_count": 31,
      "outputs": [
        {
          "output_type": "execute_result",
          "data": {
            "text/plain": [
              "[<matplotlib.lines.Line2D at 0x7f0733902bd0>]"
            ]
          },
          "metadata": {},
          "execution_count": 31
        },
        {
          "output_type": "display_data",
          "data": {
            "text/plain": [
              "<Figure size 432x288 with 1 Axes>"
            ],
            "image/png": "[encoded data removed]"
          },
          "metadata": {
            "needs_background": "light"
          }
        }
      ]
    },
    {
      "cell_type": "code",
      "source": [
        "df3=scaler.inverse_transform(df3).tolist()"
      ],
      "metadata": {
        "id": "feRRGfAZN9OP"
      },
      "execution_count": 32,
      "outputs": []
    },
    {
      "cell_type": "code",
      "source": [
        "plt.plot(df3)"
      ],
      "metadata": {
        "colab": {
          "base_uri": "https://localhost:8080/",
          "height": 282
        },
        "id": "QPi6HnrPN_5T",
        "outputId": "3720a4eb-9ce4-43f2-c91d-4bde0cf3ef19"
      },
      "execution_count": 33,
      "outputs": [
        {
          "output_type": "execute_result",
          "data": {
            "text/plain": [
              "[<matplotlib.lines.Line2D at 0x7f07339be6d0>]"
            ]
          },
          "metadata": {},
          "execution_count": 33
        },
        {
          "output_type": "display_data",
          "data": {
            "text/plain": [
              "<Figure size 432x288 with 1 Axes>"
            ],
            "image/png": "[encoded data removed]"
          },
          "metadata": {
            "needs_background": "light"
          }
        }
      ]
    },
    {
      "cell_type": "code",
      "source": [
        ""
      ],
      "metadata": {
        "id": "RB4fKAfxOCeE"
      },
      "execution_count": null,
      "outputs": []
    }
  ]
}